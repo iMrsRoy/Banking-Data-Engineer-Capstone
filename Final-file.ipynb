{
 "cells": [
  {
   "cell_type": "code",
   "execution_count": 95,
   "metadata": {},
   "outputs": [
    {
     "name": "stdout",
     "output_type": "stream",
     "text": [
      "+-----------+----------------+---------+---+-----+--------------+----------------+-----------------+----+\n",
      "|BRANCH_CODE|  CREDIT_CARD_NO| CUST_SSN|DAY|MONTH|TRANSACTION_ID|TRANSACTION_TYPE|TRANSACTION_VALUE|YEAR|\n",
      "+-----------+----------------+---------+---+-----+--------------+----------------+-----------------+----+\n",
      "|        114|4210653349028689|123459988| 14|    2|             1|       Education|             78.9|2018|\n",
      "|         35|4210653349028689|123459988| 20|    3|             2|   Entertainment|            14.24|2018|\n",
      "|        160|4210653349028689|123459988|  8|    7|             3|         Grocery|             56.7|2018|\n",
      "|        114|4210653349028689|123459988| 19|    4|             4|   Entertainment|            59.73|2018|\n",
      "|         93|4210653349028689|123459988| 10|   10|             5|             Gas|             3.59|2018|\n",
      "|        164|4210653349028689|123459988| 28|    5|             6|       Education|             6.89|2018|\n",
      "|        119|4210653349028689|123459988| 19|    5|             7|   Entertainment|            43.39|2018|\n",
      "|         23|4210653349028689|123459988|  8|    8|             8|             Gas|            95.39|2018|\n",
      "|        166|4210653349028689|123459988| 18|    3|             9|   Entertainment|            93.26|2018|\n",
      "|         83|4210653349028689|123459988|  3|    9|            10|           Bills|           100.38|2018|\n",
      "+-----------+----------------+---------+---+-----+--------------+----------------+-----------------+----+\n",
      "only showing top 10 rows\n",
      "\n"
     ]
    }
   ],
   "source": [
    "import config\n",
    "import requests\n",
    "import json\n",
    "import math\n",
    "import prettytable as pt\n",
    "import pyinputplus as pyin\n",
    "import pyspark as ps\n",
    "import numpy as np\n",
    "import pandas as pd\n",
    "import matplotlib as mp\n",
    "import matplotlib.pyplot as plt\n",
    "from pyspark import SparkConf, SparkContext\n",
    "from pyspark.sql import SparkSession \n",
    "from pyspark.sql.types import StructType,StructField,StringType,IntegerType,FloatType\n",
    "from pyspark.sql.functions import desc, max, min\n",
    "import pymysql\n",
    "\n",
    "sc = SparkContext.getOrCreate(SparkConf().setMaster(\"local[*]\"))\n",
    "#For “Credit Card System,” create a Python and PySpark SQL program to read/extract the following JSON files according to the specifications found in the mapping document.``\n",
    "spark = SparkSession.builder.appName('BankTransactions').getOrCreate()\n",
    "branchdf = spark.read.json(r\"/Users/roy/Documents/Data-Engineer/env/capstone_DE/DE_capstone_evn/Credit_Card_Dataset/Data-Engineer-Capstone/cdw_sapp_branch.json\")\n",
    "creditdf = spark.read.json(r\"/Users/roy/Documents/Data-Engineer/env/capstone_DE/DE_capstone_evn/Credit_Card_Dataset/Data-Engineer-Capstone/cdw_sapp_credit.json\")\n",
    "customerdf = spark.read.json(r\"/Users/roy/Documents/Data-Engineer/env/capstone_DE/DE_capstone_evn/Credit_Card_Dataset/Data-Engineer-Capstone/cdw_sapp_custmer.json\")\n",
    "creditdf.show(10)"
   ]
  },
  {
   "cell_type": "code",
   "execution_count": 96,
   "metadata": {},
   "outputs": [
    {
     "name": "stdout",
     "output_type": "stream",
     "text": [
      "('creditcard_capstone',)\n",
      "('information_schema',)\n",
      "('mysql',)\n",
      "('performance_schema',)\n",
      "('sys',)\n",
      "('CDW_SAPP_BRANCH',)\n",
      "('CDW_SAPP_CREDIT_CARD',)\n",
      "('CDW_SAPP_CUSTOMER',)\n",
      "('CDW_SAPP_loan_application',)\n"
     ]
    }
   ],
   "source": [
    "import pymysql\n",
    "import configparser\n",
    "\n",
    "# Read the configuration values from the config file\n",
    "config = configparser.ConfigParser()\n",
    "config.read('config.ini')\n",
    "\n",
    "# Retrieve the database configuration values\n",
    "host = config.get('database', 'host')\n",
    "username = config.get('database', 'username')\n",
    "password = config.get('database', 'password')\n",
    "\n",
    "# Create a connection to the database\n",
    "conn = pymysql.connect(host=host, user=username, password=password)\n",
    "\n",
    "# Create a cursor object\n",
    "cur = conn.cursor()\n",
    "\n",
    "# Create a new database\n",
    "#cur.execute(\"CREATE DATABASE creditcard_capstone\")\n",
    "\n",
    "# Show all databases\n",
    "cur.execute(\"SHOW DATABASES\")\n",
    "databaseList = cur.fetchall()\n",
    "for database in databaseList:\n",
    "    print(database)\n",
    "\n",
    "cur.execute(\"USE creditcard_capstone\")\n",
    "\n",
    "#show all tables\n",
    "cur.execute(\"SHOW TABLES\")\n",
    "tableList = cur.fetchall()\n",
    "for table in tableList:\n",
    "    print(table)\n",
    "\n",
    "# Close the connection conn.close()\n"
   ]
  },
  {
   "cell_type": "code",
   "execution_count": 97,
   "metadata": {},
   "outputs": [
    {
     "name": "stdout",
     "output_type": "stream",
     "text": [
      "<pymysql.cursors.Cursor object at 0x11df139a0>\n"
     ]
    }
   ],
   "source": [
    "# Connect to the database\n",
    "conn = pymysql.connect(host=host, user=username, password=password, database='creditcard_capstone')\n",
    "cur = conn.cursor()\n",
    "print(cur)"
   ]
  },
  {
   "cell_type": "code",
   "execution_count": 98,
   "metadata": {},
   "outputs": [
    {
     "name": "stdout",
     "output_type": "stream",
     "text": [
      "+-----------+-----------+------------+------------+------------+-------------+----------+--------------------+\n",
      "|BRANCH_CITY|BRANCH_CODE| BRANCH_NAME|BRANCH_PHONE|BRANCH_STATE|BRANCH_STREET|BRANCH_ZIP|        LAST_UPDATED|\n",
      "+-----------+-----------+------------+------------+------------+-------------+----------+--------------------+\n",
      "|  Lakeville|          1|Example Bank|  1234565276|          MN| Bridle Court|     55044|2018-04-18T16:51:...|\n",
      "+-----------+-----------+------------+------------+------------+-------------+----------+--------------------+\n",
      "only showing top 1 row\n",
      "\n",
      "+-----------+----------------+---------+---+-----+--------------+----------------+-----------------+----+\n",
      "|BRANCH_CODE|  CREDIT_CARD_NO| CUST_SSN|DAY|MONTH|TRANSACTION_ID|TRANSACTION_TYPE|TRANSACTION_VALUE|YEAR|\n",
      "+-----------+----------------+---------+---+-----+--------------+----------------+-----------------+----+\n",
      "|        114|4210653349028689|123459988| 14|    2|             1|       Education|             78.9|2018|\n",
      "+-----------+----------------+---------+---+-----+--------------+----------------+-----------------+----+\n",
      "only showing top 1 row\n",
      "\n",
      "+------+----------------+---------+-------------+-------------------+----------+----------+--------+----------+---------+--------------------+-----------+---------+-----------------+\n",
      "|APT_NO|  CREDIT_CARD_NO|CUST_CITY| CUST_COUNTRY|         CUST_EMAIL|CUST_PHONE|CUST_STATE|CUST_ZIP|FIRST_NAME|LAST_NAME|        LAST_UPDATED|MIDDLE_NAME|      SSN|      STREET_NAME|\n",
      "+------+----------------+---------+-------------+-------------------+----------+----------+--------+----------+---------+--------------------+-----------+---------+-----------------+\n",
      "|   656|4210653310061055|  Natchez|United States|AHooper@example.com|   1237818|        MS|   39120|      Alec|   Hooper|2018-04-21T12:49:...|         Wm|123456100|Main Street North|\n",
      "+------+----------------+---------+-------------+-------------------+----------+----------+--------+----------+---------+--------------------+-----------+---------+-----------------+\n",
      "only showing top 1 row\n",
      "\n"
     ]
    }
   ],
   "source": [
    "spark = SparkSession.builder.appName('BankTransactions').getOrCreate()\n",
    "branchdf.createOrReplaceGlobalTempView('creditcard_capstone.CDW_SAPP_BRANCH')\n",
    "branchdf.show(1)\n",
    "creditdf.createOrReplaceGlobalTempView('creditcard_capstone.cdw_sapp_credit')\n",
    "creditdf.show(1)\n",
    "customerdf.createOrReplaceGlobalTempView('creditcard_capstone.cdw_sapp_customer')\n",
    "customerdf.show(1)\n"
   ]
  },
  {
   "cell_type": "code",
   "execution_count": 145,
   "metadata": {},
   "outputs": [
    {
     "name": "stdout",
     "output_type": "stream",
     "text": [
      "(('4210653310395982', 'NorthOlmsted', 'United States', 'BWoodard@example.com', '(880)124-2570', 'OH', '44070', 'Beau', 'Woodard', '2018-04-21T12:49:02.000-04:00', 'rose', 123454202, 'Colonial Drive, 3'),)\n"
     ]
    }
   ],
   "source": [
    "#22.1) Used to check the existing account details of a customer.\n",
    "def checkCusAccDetails(first_name, last_4_digits_SSN):\n",
    "    sqlSelect = \"SELECT * FROM cdw_sapp_customer \\\n",
    "        WHERE FIRST_NAME = '{}' AND RIGHT(SSN, 4) = '{}'\"\n",
    "    cur.execute(sqlSelect.format(first_name, last_4_digits_SSN))\n",
    "    result = cur.fetchall()\n",
    "    print(result)\n",
    "\n",
    "first_name = input(\"Enter First Name: \")\n",
    "last_4_digits_SSN = input(\"Enter last 4 digits of SSN: \")\n",
    "checkCusAccDetails(first_name, last_4_digits_SSN)"
   ]
  },
  {
   "cell_type": "code",
   "execution_count": 183,
   "metadata": {},
   "outputs": [
    {
     "name": "stdout",
     "output_type": "stream",
     "text": [
      "(('4210653310395982', 'NorthOlmsted', 'United States', 'BWoodard@example.com', '(880)124-2570', 'OH', '44070', 'Beau', 'Woodard', '2018-04-21T12:49:02.000-04:00', 'Roy', 123454202, 'Colonial Drive, 3'),)\n"
     ]
    }
   ],
   "source": [
    "# 2.2 (2) Modify the existing account details of a customer.\n",
    "def modifyCusAccDetails(first_name, last_4_digits_SSN, middle_name):\n",
    "    sqlUpdate = \"UPDATE cdw_sapp_customer \\\n",
    "        SET MIDDLE_NAME = '{}' \\\n",
    "        WHERE FIRST_NAME = '{}' AND RIGHT(SSN, 4) = '{}'\"\n",
    "    sqlSelect = \"SELECT * FROM cdw_sapp_customer \\\n",
    "        WHERE FIRST_NAME = '{}' AND RIGHT(SSN, 4) = '{}'\"\n",
    "    cur.execute(sqlUpdate.format(middle_name, first_name, last_4_digits_SSN))\n",
    "    cur.execute(sqlSelect.format(first_name, last_4_digits_SSN))\n",
    "    result = cur.fetchall()\n",
    "    print(result)\n",
    "\n",
    "first_name = input(\"Enter First Name: \")\n",
    "last_4_digits_SSN = input(\"Enter last 4 digits of SSN: \")\n",
    "middle_name = input(\"Enter New Middle Name: \")\n",
    "modifyCusAccDetails(first_name, last_4_digits_SSN, middle_name)"
   ]
  },
  {
   "cell_type": "code",
   "execution_count": 184,
   "metadata": {},
   "outputs": [
    {
     "name": "stdout",
     "output_type": "stream",
     "text": [
      "(('4210653310395982', 'Grocery', 92.16, '20180310'), ('4210653310395982', 'Healthcare', 31.75, '20180328'))\n"
     ]
    }
   ],
   "source": [
    "# 2.2 (3) generate a monthly bill for a credit card number for a given month and year.\n",
    "def monthlyBill(credit_card_no, month, year):\n",
    "    sqlSelect = \"SELECT cr.credit_card_no, cr.TRANSACTION_TYPE, cr.TRANSACTION_VALUE, cr.TIMEID \\\n",
    "                FROM cdw_sapp_credit_CARD cr WHERE cr.credit_card_no = {} AND cr.MONTH = {} AND cr.YEAR = {}\"\n",
    "    \n",
    "    cur.execute(sqlSelect.format(credit_card_no, month, year))\n",
    "    result = cur.fetchall()\n",
    "    print(result)\n",
    "\n",
    "credit_card_no = input(\"Enter Customer Credit Card #: \")\n",
    "month = input(\"Enter Month 2 digit format: \")\n",
    "year = input(\"Enter 4 digit year: \")\n",
    "monthlyBill(credit_card_no, month, year)"
   ]
  },
  {
   "cell_type": "code",
   "execution_count": 177,
   "metadata": {},
   "outputs": [
    {
     "name": "stdout",
     "output_type": "stream",
     "text": [
      "(('4210653376655865', 'Education', 5.18, 'Example Bank'), ('4210653376655865', 'Gas', 83.58, 'Example Bank'), ('4210653376655865', 'Entertainment', 20.87, 'Example Bank'), ('4210653376655865', 'Test', 78.25, 'Example Bank'), ('4210653376655865', 'Test', 52.41, 'Example Bank'))\n"
     ]
    }
   ],
   "source": [
    "#2.2 (4) display the transactions made by a customer between two dates.\n",
    "def display_transactions_by_date(credit_card_no, startDate, endDate):\n",
    "    sqlSelect = \"SELECT c.CREDIT_CARD_NO, c.TRANSACTION_TYPE, c.TRANSACTION_VALUE, b.BRANCH_NAME FROM cdw_sapp_credit_card c \\\n",
    "                JOIN cdw_sapp_customer cust \\\n",
    "                      ON c.CREDIT_CARD_NO = cust.CREDIT_CARD_NO \\\n",
    "                JOIN cdw_sapp_branch b \\\n",
    "                    ON c.BRANCH_CODE = b.BRANCH_CODE \\\n",
    "                WHERE c.CREDIT_CARD_NO = {} \\\n",
    "                AND c.TIMEID BETWEEN '{}' AND '{}'\\\n",
    "                ORDER BY c.year, c.month, c.day DESC \"\n",
    "    cur.execute(sqlSelect.format(credit_card_no, startDate, endDate))\n",
    "    result = cur.fetchall()\n",
    "    print(result)\n",
    "credit_card_no = input(\"Enter Customer Credit Card #: \")\n",
    "startDate = input(\"Enter STARTDATE: \")\n",
    "endDate = input(\"Enter ENDDATE: \")\n",
    "display_transactions_by_date(credit_card_no, startDate, endDate)"
   ]
  },
  {
   "cell_type": "code",
   "execution_count": 186,
   "metadata": {},
   "outputs": [
    {
     "name": "stdout",
     "output_type": "stream",
     "text": [
      "((31.75, '44070', 3, 2018, 28), (24.07, '44070', 3, 2018, 23), (94.46, '44070', 3, 2018, 22), (22.17, '44070', 3, 2018, 18), (92.16, '44070', 3, 2018, 10), (72.06, '44070', 3, 2018, 10), (90.65, '44070', 3, 2018, 8))\n"
     ]
    }
   ],
   "source": [
    "# 2,1 -1)Used to display the transactions made by customers living in a given zip code for a given month and year. Order by day in descending order.\n",
    "def displaytransactions(cust_zip, month, year):\n",
    "    sqlSelect = \"SELECT CR.TRANSACTION_VALUE, C.CUST_ZIP, CR.MONTH, CR.YEAR, CR.DAY \\\n",
    "        FROM cdw_sapp_customer C\\\n",
    "        JOIN cdw_sapp_credit_CARD CR\\\n",
    "        ON c.CREDIT_CARD_NO = cr.CREDIT_CARD_NO\\\n",
    "        WHERE c.CUST_ZIP = {} AND MONTH = {} AND YEAR = {}\\\n",
    "        ORDER BY DAY DESC\"\n",
    "   \n",
    "    #cur.execute(sqlUpdate.format(middle_name, first_name, last_4_digits_SSN))\n",
    "    cur.execute(sqlSelect.format(cust_zip, month, year))\n",
    "    result = cur.fetchall()\n",
    "    print(result)\n",
    "\n",
    "cust_zip = input(\"Enter Customer Zipcode: \")\n",
    "month = input(\"Enter Month 2 digit format: \")\n",
    "year = input(\"Enter 4 digit year: \")\n",
    "displaytransactions(cust_zip, month, year)"
   ]
  },
  {
   "cell_type": "code",
   "execution_count": 135,
   "metadata": {},
   "outputs": [
    {
     "name": "stdout",
     "output_type": "stream",
     "text": [
      "(('Gas', 6605, 336059.2600000003),)\n"
     ]
    }
   ],
   "source": [
    "#Functional Requirement 2.1 2) Used to display the number and total values of transactions for a given type.\n",
    "\n",
    "def displayvalues(transaction_type):\n",
    "    sqlSelect = \" SELECT cr.TRANSACTION_TYPE, COUNT(TRANSACTION_VALUE) AS COUNT, SUM(TRANSACTION_VALUE) AS TOTAL_VALUE \\\n",
    "        FROM cdw_sapp_credit_card cr where cr.TRANSACTION_TYPE = '{}' GROUP BY 1\"\n",
    "    cur.execute(sqlSelect.format(transaction_type))\n",
    "    result = cur.fetchall()\n",
    "    print(result)\n",
    "\n",
    "transaction_type = input(\"Enter Transaction Type: \")\n",
    "displayvalues(transaction_type)"
   ]
  },
  {
   "cell_type": "code",
   "execution_count": 182,
   "metadata": {},
   "outputs": [
    {
     "name": "stdout",
     "output_type": "stream",
     "text": [
      "(('NY', 4143, 213717.3800000001),)\n"
     ]
    }
   ],
   "source": [
    "# 2.1 3) Used to display the total values of transactions for branches in a given state.\n",
    "def displaybystate(state):\n",
    "    sqlSelect = \"SELECT b.BRANCH_STATE, count(c.TRANSACTION_ID), SUM(TRANSACTION_VALUE) AS TOTAL_VALUE \\\n",
    "        FROM CDW_SAPP_BRANCH b \\\n",
    "        JOIN creditcard_capstone.cdw_sapp_credit_card c \\\n",
    "        ON b.BRANCH_CODE = c.BRANCH_CODE \\\n",
    "        WHERE b.BRANCH_STATE = '{}' GROUP BY 1\"\n",
    "    \n",
    "    cur.execute(sqlSelect.format(state))\n",
    "    result = cur.fetchall()\n",
    "    print(result)\n",
    "\n",
    "state = input(\"Enter State 2 Letter format: \")\n",
    "displaybystate(state)\n",
    "\n"
   ]
  },
  {
   "cell_type": "code",
   "execution_count": 193,
   "metadata": {},
   "outputs": [
    {
     "name": "stdout",
     "output_type": "stream",
     "text": [
      "Welcome to Banking Application select an option to begin!\n",
      "1. Display transactions by zip code and date\n",
      "2. Display transaction count and total value by type\n",
      "3. Display transaction count and total value by branch state\n",
      "4. Exit\n",
      "Enter your choice: Enter the state: "
     ]
    },
    {
     "ename": "InterfaceError",
     "evalue": "(0, '')",
     "output_type": "error",
     "traceback": [
      "\u001b[0;31m---------------------------------------------------------------------------\u001b[0m",
      "\u001b[0;31mInterfaceError\u001b[0m                            Traceback (most recent call last)",
      "Cell \u001b[0;32mIn[193], line 41\u001b[0m\n\u001b[1;32m     38\u001b[0m \u001b[39melif\u001b[39;00m choice \u001b[39m==\u001b[39m \u001b[39m3\u001b[39m:\n\u001b[1;32m     39\u001b[0m     \u001b[39m# display transaction count and total value by branch state displaybystate(state)\u001b[39;00m\n\u001b[1;32m     40\u001b[0m     state \u001b[39m=\u001b[39m validate_input(\u001b[39m\"\u001b[39m\u001b[39mEnter the state: \u001b[39m\u001b[39m\"\u001b[39m, \u001b[39mstr\u001b[39m)\n\u001b[0;32m---> 41\u001b[0m     result \u001b[39m=\u001b[39m displaybystate(state)\n\u001b[1;32m     42\u001b[0m     \u001b[39mprint\u001b[39m(result)\n\u001b[1;32m     43\u001b[0m     \u001b[39mif\u001b[39;00m \u001b[39mnot\u001b[39;00m result\u001b[39m.\u001b[39mempty:\n",
      "Cell \u001b[0;32mIn[182], line 9\u001b[0m, in \u001b[0;36mdisplaybystate\u001b[0;34m(state)\u001b[0m\n\u001b[1;32m      2\u001b[0m \u001b[39mdef\u001b[39;00m \u001b[39mdisplaybystate\u001b[39m(state):\n\u001b[1;32m      3\u001b[0m     sqlSelect \u001b[39m=\u001b[39m \u001b[39m\"\u001b[39m\u001b[39mSELECT b.BRANCH_STATE, count(c.TRANSACTION_ID), SUM(TRANSACTION_VALUE) AS TOTAL_VALUE \u001b[39m\u001b[39m\\\u001b[39;00m\n\u001b[1;32m      4\u001b[0m \u001b[39m        FROM CDW_SAPP_BRANCH b \u001b[39m\u001b[39m\\\u001b[39;00m\n\u001b[1;32m      5\u001b[0m \u001b[39m        JOIN creditcard_capstone.cdw_sapp_credit_card c \u001b[39m\u001b[39m\\\u001b[39;00m\n\u001b[1;32m      6\u001b[0m \u001b[39m        ON b.BRANCH_CODE = c.BRANCH_CODE \u001b[39m\u001b[39m\\\u001b[39;00m\n\u001b[1;32m      7\u001b[0m \u001b[39m        WHERE b.BRANCH_STATE = \u001b[39m\u001b[39m'\u001b[39m\u001b[39m{}\u001b[39;00m\u001b[39m'\u001b[39m\u001b[39m GROUP BY 1\u001b[39m\u001b[39m\"\u001b[39m\n\u001b[0;32m----> 9\u001b[0m     cur\u001b[39m.\u001b[39;49mexecute(sqlSelect\u001b[39m.\u001b[39;49mformat(state))\n\u001b[1;32m     10\u001b[0m     result \u001b[39m=\u001b[39m cur\u001b[39m.\u001b[39mfetchall()\n\u001b[1;32m     11\u001b[0m     \u001b[39mprint\u001b[39m(result)\n",
      "File \u001b[0;32m/usr/local/lib/python3.10/site-packages/pymysql/cursors.py:148\u001b[0m, in \u001b[0;36mCursor.execute\u001b[0;34m(self, query, args)\u001b[0m\n\u001b[1;32m    144\u001b[0m     \u001b[39mpass\u001b[39;00m\n\u001b[1;32m    146\u001b[0m query \u001b[39m=\u001b[39m \u001b[39mself\u001b[39m\u001b[39m.\u001b[39mmogrify(query, args)\n\u001b[0;32m--> 148\u001b[0m result \u001b[39m=\u001b[39m \u001b[39mself\u001b[39;49m\u001b[39m.\u001b[39;49m_query(query)\n\u001b[1;32m    149\u001b[0m \u001b[39mself\u001b[39m\u001b[39m.\u001b[39m_executed \u001b[39m=\u001b[39m query\n\u001b[1;32m    150\u001b[0m \u001b[39mreturn\u001b[39;00m result\n",
      "File \u001b[0;32m/usr/local/lib/python3.10/site-packages/pymysql/cursors.py:310\u001b[0m, in \u001b[0;36mCursor._query\u001b[0;34m(self, q)\u001b[0m\n\u001b[1;32m    308\u001b[0m \u001b[39mself\u001b[39m\u001b[39m.\u001b[39m_last_executed \u001b[39m=\u001b[39m q\n\u001b[1;32m    309\u001b[0m \u001b[39mself\u001b[39m\u001b[39m.\u001b[39m_clear_result()\n\u001b[0;32m--> 310\u001b[0m conn\u001b[39m.\u001b[39;49mquery(q)\n\u001b[1;32m    311\u001b[0m \u001b[39mself\u001b[39m\u001b[39m.\u001b[39m_do_get_result()\n\u001b[1;32m    312\u001b[0m \u001b[39mreturn\u001b[39;00m \u001b[39mself\u001b[39m\u001b[39m.\u001b[39mrowcount\n",
      "File \u001b[0;32m/usr/local/lib/python3.10/site-packages/pymysql/connections.py:547\u001b[0m, in \u001b[0;36mConnection.query\u001b[0;34m(self, sql, unbuffered)\u001b[0m\n\u001b[1;32m    545\u001b[0m \u001b[39mif\u001b[39;00m \u001b[39misinstance\u001b[39m(sql, \u001b[39mstr\u001b[39m):\n\u001b[1;32m    546\u001b[0m     sql \u001b[39m=\u001b[39m sql\u001b[39m.\u001b[39mencode(\u001b[39mself\u001b[39m\u001b[39m.\u001b[39mencoding, \u001b[39m\"\u001b[39m\u001b[39msurrogateescape\u001b[39m\u001b[39m\"\u001b[39m)\n\u001b[0;32m--> 547\u001b[0m \u001b[39mself\u001b[39;49m\u001b[39m.\u001b[39;49m_execute_command(COMMAND\u001b[39m.\u001b[39;49mCOM_QUERY, sql)\n\u001b[1;32m    548\u001b[0m \u001b[39mself\u001b[39m\u001b[39m.\u001b[39m_affected_rows \u001b[39m=\u001b[39m \u001b[39mself\u001b[39m\u001b[39m.\u001b[39m_read_query_result(unbuffered\u001b[39m=\u001b[39munbuffered)\n\u001b[1;32m    549\u001b[0m \u001b[39mreturn\u001b[39;00m \u001b[39mself\u001b[39m\u001b[39m.\u001b[39m_affected_rows\n",
      "File \u001b[0;32m/usr/local/lib/python3.10/site-packages/pymysql/connections.py:793\u001b[0m, in \u001b[0;36mConnection._execute_command\u001b[0;34m(self, command, sql)\u001b[0m\n\u001b[1;32m    788\u001b[0m \u001b[39m\u001b[39m\u001b[39m\"\"\"\u001b[39;00m\n\u001b[1;32m    789\u001b[0m \u001b[39m:raise InterfaceError: If the connection is closed.\u001b[39;00m\n\u001b[1;32m    790\u001b[0m \u001b[39m:raise ValueError: If no username was specified.\u001b[39;00m\n\u001b[1;32m    791\u001b[0m \u001b[39m\"\"\"\u001b[39;00m\n\u001b[1;32m    792\u001b[0m \u001b[39mif\u001b[39;00m \u001b[39mnot\u001b[39;00m \u001b[39mself\u001b[39m\u001b[39m.\u001b[39m_sock:\n\u001b[0;32m--> 793\u001b[0m     \u001b[39mraise\u001b[39;00m err\u001b[39m.\u001b[39mInterfaceError(\u001b[39m0\u001b[39m, \u001b[39m\"\u001b[39m\u001b[39m\"\u001b[39m)\n\u001b[1;32m    795\u001b[0m \u001b[39m# If the last query was unbuffered, make sure it finishes before\u001b[39;00m\n\u001b[1;32m    796\u001b[0m \u001b[39m# sending new commands\u001b[39;00m\n\u001b[1;32m    797\u001b[0m \u001b[39mif\u001b[39;00m \u001b[39mself\u001b[39m\u001b[39m.\u001b[39m_result \u001b[39mis\u001b[39;00m \u001b[39mnot\u001b[39;00m \u001b[39mNone\u001b[39;00m:\n",
      "\u001b[0;31mInterfaceError\u001b[0m: (0, '')"
     ]
    }
   ],
   "source": [
    "# define a function to validate user input\n",
    "def validate_input(prompt, expected_type):\n",
    "    while True:\n",
    "        user_input = pyin.inputStr(prompt)\n",
    "        try:\n",
    "            validated_input = expected_type(user_input)\n",
    "            return validated_input\n",
    "        except ValueError:\n",
    "            print(f\"Invalid input. Please enter a {expected_type.__name__}.\")\n",
    "# define a loop for user interaction\n",
    "while True:\n",
    "    print(\"Welcome to Banking Application select an option to begin!\")\n",
    "    print(\"1. Display transactions by zip code and date\")\n",
    "    print(\"2. Display transaction count and total value by type\")\n",
    "    print(\"3. Display transaction count and total value by branch state\")\n",
    "    print(\"4. Exit\")\n",
    "\n",
    "    # validate user input displaytransactions(cust_zip, month, year)\n",
    "    choice = validate_input(\"Enter your choice: \", int)\n",
    "    if choice == 1:\n",
    "        # display transactions by zip code and date \n",
    "        cust_zip = validate_input(\"Enter the zip code: \", int)\n",
    "        year = validate_input(\"Enter the year: \", int)\n",
    "        month = validate_input(\"Enter the month: \", int)\n",
    "        result = displaytransactions(cust_zip, year, month)\n",
    "        if not result.empty:\n",
    "            print(result)\n",
    "        else:\n",
    "            print(\"No transactions found.\")\n",
    "    elif choice == 2:\n",
    "        # display transaction count and total value by type displayvalues(transaction_type)\n",
    "        TRANSACTION_TYPE = validate_input(\"Enter the transaction type: \", str)\n",
    "        result = displayvalues(transaction_type)\n",
    "        if not result.empty:\n",
    "            print(result)\n",
    "        else:\n",
    "            print(\"No transactions found.\")\n",
    "    elif choice == 3:\n",
    "        # display transaction count and total value by branch state displaybystate(state)\n",
    "        state = validate_input(\"Enter the state: \", str)\n",
    "        result = displaybystate(state)\n",
    "        print(result)\n",
    "        if not result.empty:\n",
    "            print(result)\n",
    "        else:\n",
    "            print(\"No transactions found.\")\n",
    "    elif choice == 4:\n",
    "        # exit\n",
    "        break\n",
    "    else:\n",
    "        print(\"Invalid choice.\")\n",
    "        "
   ]
  },
  {
   "cell_type": "code",
   "execution_count": 191,
   "metadata": {},
   "outputs": [
    {
     "name": "stdout",
     "output_type": "stream",
     "text": [
      "Welcome to Banking Application select an option to begin!\n",
      "1. Display Check Customer Account Details\n",
      "2. Modify Customer Middle Name\n",
      "3. Display Statement by Month\n",
      "4. Exit\n",
      "Enter your choice: Enter the Credit Card #: Enter the Month: Enter the Year: "
     ]
    },
    {
     "ename": "InterfaceError",
     "evalue": "(0, '')",
     "output_type": "error",
     "traceback": [
      "\u001b[0;31m---------------------------------------------------------------------------\u001b[0m",
      "\u001b[0;31mInterfaceError\u001b[0m                            Traceback (most recent call last)",
      "Cell \u001b[0;32mIn[191], line 50\u001b[0m\n\u001b[1;32m     48\u001b[0m month \u001b[39m=\u001b[39m validate_input(\u001b[39m\"\u001b[39m\u001b[39mEnter the Month: \u001b[39m\u001b[39m\"\u001b[39m, \u001b[39mint\u001b[39m)\n\u001b[1;32m     49\u001b[0m year \u001b[39m=\u001b[39m validate_input(\u001b[39m\"\u001b[39m\u001b[39mEnter the Year: \u001b[39m\u001b[39m\"\u001b[39m, \u001b[39mint\u001b[39m)\n\u001b[0;32m---> 50\u001b[0m result \u001b[39m=\u001b[39m monthlyBill(credit_card_no, month, year)\n\u001b[1;32m     51\u001b[0m \u001b[39mif\u001b[39;00m \u001b[39mnot\u001b[39;00m result\u001b[39m.\u001b[39mempty:\n\u001b[1;32m     52\u001b[0m     \u001b[39mprint\u001b[39m(result)\n",
      "Cell \u001b[0;32mIn[184], line 6\u001b[0m, in \u001b[0;36mmonthlyBill\u001b[0;34m(credit_card_no, month, year)\u001b[0m\n\u001b[1;32m      2\u001b[0m \u001b[39mdef\u001b[39;00m \u001b[39mmonthlyBill\u001b[39m(credit_card_no, month, year):\n\u001b[1;32m      3\u001b[0m     sqlSelect \u001b[39m=\u001b[39m \u001b[39m\"\u001b[39m\u001b[39mSELECT cr.credit_card_no, cr.TRANSACTION_TYPE, cr.TRANSACTION_VALUE, cr.TIMEID \u001b[39m\u001b[39m\\\u001b[39;00m\n\u001b[1;32m      4\u001b[0m \u001b[39m                FROM cdw_sapp_credit_CARD cr WHERE cr.credit_card_no = \u001b[39m\u001b[39m{}\u001b[39;00m\u001b[39m AND cr.MONTH = \u001b[39m\u001b[39m{}\u001b[39;00m\u001b[39m AND cr.YEAR = \u001b[39m\u001b[39m{}\u001b[39;00m\u001b[39m\"\u001b[39m\n\u001b[0;32m----> 6\u001b[0m     cur\u001b[39m.\u001b[39;49mexecute(sqlSelect\u001b[39m.\u001b[39;49mformat(credit_card_no, month, year))\n\u001b[1;32m      7\u001b[0m     result \u001b[39m=\u001b[39m cur\u001b[39m.\u001b[39mfetchall()\n\u001b[1;32m      8\u001b[0m     \u001b[39mprint\u001b[39m(result)\n",
      "File \u001b[0;32m/usr/local/lib/python3.10/site-packages/pymysql/cursors.py:148\u001b[0m, in \u001b[0;36mCursor.execute\u001b[0;34m(self, query, args)\u001b[0m\n\u001b[1;32m    144\u001b[0m     \u001b[39mpass\u001b[39;00m\n\u001b[1;32m    146\u001b[0m query \u001b[39m=\u001b[39m \u001b[39mself\u001b[39m\u001b[39m.\u001b[39mmogrify(query, args)\n\u001b[0;32m--> 148\u001b[0m result \u001b[39m=\u001b[39m \u001b[39mself\u001b[39;49m\u001b[39m.\u001b[39;49m_query(query)\n\u001b[1;32m    149\u001b[0m \u001b[39mself\u001b[39m\u001b[39m.\u001b[39m_executed \u001b[39m=\u001b[39m query\n\u001b[1;32m    150\u001b[0m \u001b[39mreturn\u001b[39;00m result\n",
      "File \u001b[0;32m/usr/local/lib/python3.10/site-packages/pymysql/cursors.py:310\u001b[0m, in \u001b[0;36mCursor._query\u001b[0;34m(self, q)\u001b[0m\n\u001b[1;32m    308\u001b[0m \u001b[39mself\u001b[39m\u001b[39m.\u001b[39m_last_executed \u001b[39m=\u001b[39m q\n\u001b[1;32m    309\u001b[0m \u001b[39mself\u001b[39m\u001b[39m.\u001b[39m_clear_result()\n\u001b[0;32m--> 310\u001b[0m conn\u001b[39m.\u001b[39;49mquery(q)\n\u001b[1;32m    311\u001b[0m \u001b[39mself\u001b[39m\u001b[39m.\u001b[39m_do_get_result()\n\u001b[1;32m    312\u001b[0m \u001b[39mreturn\u001b[39;00m \u001b[39mself\u001b[39m\u001b[39m.\u001b[39mrowcount\n",
      "File \u001b[0;32m/usr/local/lib/python3.10/site-packages/pymysql/connections.py:547\u001b[0m, in \u001b[0;36mConnection.query\u001b[0;34m(self, sql, unbuffered)\u001b[0m\n\u001b[1;32m    545\u001b[0m \u001b[39mif\u001b[39;00m \u001b[39misinstance\u001b[39m(sql, \u001b[39mstr\u001b[39m):\n\u001b[1;32m    546\u001b[0m     sql \u001b[39m=\u001b[39m sql\u001b[39m.\u001b[39mencode(\u001b[39mself\u001b[39m\u001b[39m.\u001b[39mencoding, \u001b[39m\"\u001b[39m\u001b[39msurrogateescape\u001b[39m\u001b[39m\"\u001b[39m)\n\u001b[0;32m--> 547\u001b[0m \u001b[39mself\u001b[39;49m\u001b[39m.\u001b[39;49m_execute_command(COMMAND\u001b[39m.\u001b[39;49mCOM_QUERY, sql)\n\u001b[1;32m    548\u001b[0m \u001b[39mself\u001b[39m\u001b[39m.\u001b[39m_affected_rows \u001b[39m=\u001b[39m \u001b[39mself\u001b[39m\u001b[39m.\u001b[39m_read_query_result(unbuffered\u001b[39m=\u001b[39munbuffered)\n\u001b[1;32m    549\u001b[0m \u001b[39mreturn\u001b[39;00m \u001b[39mself\u001b[39m\u001b[39m.\u001b[39m_affected_rows\n",
      "File \u001b[0;32m/usr/local/lib/python3.10/site-packages/pymysql/connections.py:793\u001b[0m, in \u001b[0;36mConnection._execute_command\u001b[0;34m(self, command, sql)\u001b[0m\n\u001b[1;32m    788\u001b[0m \u001b[39m\u001b[39m\u001b[39m\"\"\"\u001b[39;00m\n\u001b[1;32m    789\u001b[0m \u001b[39m:raise InterfaceError: If the connection is closed.\u001b[39;00m\n\u001b[1;32m    790\u001b[0m \u001b[39m:raise ValueError: If no username was specified.\u001b[39;00m\n\u001b[1;32m    791\u001b[0m \u001b[39m\"\"\"\u001b[39;00m\n\u001b[1;32m    792\u001b[0m \u001b[39mif\u001b[39;00m \u001b[39mnot\u001b[39;00m \u001b[39mself\u001b[39m\u001b[39m.\u001b[39m_sock:\n\u001b[0;32m--> 793\u001b[0m     \u001b[39mraise\u001b[39;00m err\u001b[39m.\u001b[39mInterfaceError(\u001b[39m0\u001b[39m, \u001b[39m\"\u001b[39m\u001b[39m\"\u001b[39m)\n\u001b[1;32m    795\u001b[0m \u001b[39m# If the last query was unbuffered, make sure it finishes before\u001b[39;00m\n\u001b[1;32m    796\u001b[0m \u001b[39m# sending new commands\u001b[39;00m\n\u001b[1;32m    797\u001b[0m \u001b[39mif\u001b[39;00m \u001b[39mself\u001b[39m\u001b[39m.\u001b[39m_result \u001b[39mis\u001b[39;00m \u001b[39mnot\u001b[39;00m \u001b[39mNone\u001b[39;00m:\n",
      "\u001b[0;31mInterfaceError\u001b[0m: (0, '')"
     ]
    }
   ],
   "source": [
    "#Functional Requirements 2.2\n",
    "#1) Used to check the existing account details of a customer.\n",
    "#2) Used to modify the existing account details of a customer.\n",
    "#3) Used to generate a monthly bill for a credit card number for a given month and year.\n",
    "#4) Used to display the transactions made by a customer between two dates. Order by year, month, and day in descending order.\n",
    "\n",
    "# define a function to validate user input\n",
    "def validate_input(prompt, expected_type):\n",
    "    while True:\n",
    "        user_input = pyin.inputStr(prompt)\n",
    "        try:\n",
    "            validated_input = expected_type(user_input)\n",
    "            return validated_input\n",
    "        except ValueError:\n",
    "            print(f\"Invalid input. Please enter a {expected_type.__name__}.\")\n",
    "# define a loop for user interaction\n",
    "while True:\n",
    "    print(\"Welcome to Banking Application select an option to begin!\")\n",
    "    print(\"1. Display Check Customer Account Details\")\n",
    "    print(\"2. Modify Customer Middle Name\")\n",
    "    print(\"3. Display Statement by Month\")\n",
    "    print(\"4. Exit\")\n",
    "\n",
    "    # validate user input def checkCusAccDetails(first_name, last_4_digits_SSN):\n",
    "    choice = validate_input(\"Enter your choice: \", int)\n",
    "    if choice == 1:\n",
    "        # display transactions by zip code and date \n",
    "        first_name = validate_input(\"Enter the First Name: \", str)\n",
    "        last_4_digits_SSN = validate_input(\"Enter the Last 4 Digits of SSN: \", int)\n",
    "        result = checkCusAccDetails(first_name, last_4_digits_SSN)\n",
    "        if not result.empty:\n",
    "            print(result)\n",
    "        else:\n",
    "            print(\"No transactions found.\")\n",
    "    elif choice == 2:\n",
    "        # display transaction count and total value by type modifyCusAccDetails(first_name, last_4_digits_SSN, middle_name)\n",
    "        first_name = validate_input(\"Enter the First Name: \", str)\n",
    "        last_4_digits_SSN = validate_input(\"Enter the Last 4 Digits of SSN: \", int)\n",
    "        middle_name = validate_input(\"Enter the New Middle Name: \", str)\n",
    "        result = modifyCusAccDetails(first_name, last_4_digits_SSN, middle_name)\n",
    "        if not result.empty:\n",
    "            print(result)\n",
    "        else:\n",
    "            print(\"No transactions found.\")\n",
    "    elif choice == 3:\n",
    "        # monthlyBill(credit_card_no, month, year)\n",
    "        credit_card_no = validate_input(\"Enter the Credit Card #: \", int)\n",
    "        month = validate_input(\"Enter the Month: \", int)\n",
    "        year = validate_input(\"Enter the Year: \", int)\n",
    "        result = monthlyBill(credit_card_no, month, year)\n",
    "        if not result.empty:\n",
    "            print(result)\n",
    "        else:\n",
    "            print(\"No transactions found.\")\n",
    "    elif choice == 4:\n",
    "        # exit\n",
    "        break\n",
    "    else:\n",
    "        print(\"Invalid choice.\")"
   ]
  },
  {
   "cell_type": "code",
   "execution_count": 189,
   "metadata": {},
   "outputs": [],
   "source": [
    "# Close the connection \n",
    "conn.close()"
   ]
  }
 ],
 "metadata": {
  "kernelspec": {
   "display_name": "Python 3",
   "language": "python",
   "name": "python3"
  },
  "language_info": {
   "codemirror_mode": {
    "name": "ipython",
    "version": 3
   },
   "file_extension": ".py",
   "mimetype": "text/x-python",
   "name": "python",
   "nbconvert_exporter": "python",
   "pygments_lexer": "ipython3",
   "version": "3.10.10"
  },
  "orig_nbformat": 4,
  "vscode": {
   "interpreter": {
    "hash": "aee8b7b246df8f9039afb4144a1f6fd8d2ca17a180786b69acc140d282b71a49"
   }
  }
 },
 "nbformat": 4,
 "nbformat_minor": 2
}
