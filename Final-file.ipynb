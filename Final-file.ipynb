{
 "cells": [
  {
   "cell_type": "code",
   "execution_count": 14,
   "metadata": {},
   "outputs": [],
   "source": [
    "import config\n",
    "import requests\n",
    "import json\n",
    "import math\n",
    "from prettytable import ALL as pt\n",
    "import pyinputplus as pyin\n",
    "import pyspark as ps\n",
    "import numpy as np\n",
    "import pandas as pd\n",
    "import matplotlib as mp\n",
    "import matplotlib.pyplot as plt\n",
    "from pyspark import SparkConf, SparkContext\n",
    "from pyspark.sql import SparkSession \n",
    "from pyspark.sql.types import StructType,StructField,StringType,IntegerType,FloatType\n",
    "from pyspark.sql.functions import desc, max, min\n",
    "import pymysql\n",
    "\n",
    "sc = SparkContext.getOrCreate(SparkConf().setMaster(\"local[*]\"))\n",
    "#For “Credit Card System,” create a Python and PySpark SQL program to read/extract the following JSON files according to the specifications found in the mapping document.``\n",
    "spark = SparkSession.builder.appName('BankTransactions').getOrCreate()\n",
    "branchdf = spark.read.json(r\"/Users/roy/Documents/Data-Engineer/env/capstone_DE/DE_capstone_evn/Credit_Card_Dataset/Data-Engineer-Capstone/cdw_sapp_branch.json\")\n",
    "creditdf = spark.read.json(r\"/Users/roy/Documents/Data-Engineer/env/capstone_DE/DE_capstone_evn/Credit_Card_Dataset/Data-Engineer-Capstone/cdw_sapp_credit.json\")\n",
    "customerdf = spark.read.json(r\"/Users/roy/Documents/Data-Engineer/env/capstone_DE/DE_capstone_evn/Credit_Card_Dataset/Data-Engineer-Capstone/cdw_sapp_custmer.json\")\n",
    "\n"
   ]
  },
  {
   "cell_type": "code",
   "execution_count": 15,
   "metadata": {},
   "outputs": [
    {
     "name": "stdout",
     "output_type": "stream",
     "text": [
      "('creditcard_capstone',)\n",
      "('information_schema',)\n",
      "('mysql',)\n",
      "('performance_schema',)\n",
      "('sys',)\n",
      "('CDW_SAPP_BRANCH',)\n",
      "('CDW_SAPP_CREDIT_CARD',)\n",
      "('CDW_SAPP_CUSTOMER',)\n",
      "('CDW_SAPP_loan_application',)\n"
     ]
    }
   ],
   "source": [
    "import pymysql\n",
    "import configparser\n",
    "\n",
    "# Read the configuration values from the config file\n",
    "config = configparser.ConfigParser()\n",
    "config.read('config.ini')\n",
    "\n",
    "# Retrieve the database configuration values\n",
    "host = config.get('database', 'host')\n",
    "username = config.get('database', 'username')\n",
    "password = config.get('database', 'password')\n",
    "\n",
    "# Create a connection to the database\n",
    "conn = pymysql.connect(host=host, user=username, password=password)\n",
    "\n",
    "# Create a cursor object\n",
    "cur = conn.cursor()\n",
    "\n",
    "# Create a new database\n",
    "#cur.execute(\"CREATE DATABASE creditcard_capstone\")\n",
    "\n",
    "# Show all databases\n",
    "cur.execute(\"SHOW DATABASES\")\n",
    "databaseList = cur.fetchall()\n",
    "for database in databaseList:\n",
    "    print(database)\n",
    "\n",
    "cur.execute(\"USE creditcard_capstone\")\n",
    "\n",
    "#show all tables\n",
    "cur.execute(\"SHOW TABLES\")\n",
    "tableList = cur.fetchall()\n",
    "for table in tableList:\n",
    "    print(table)\n",
    "\n",
    "# Close the connection conn.close()\n"
   ]
  },
  {
   "cell_type": "code",
   "execution_count": 16,
   "metadata": {},
   "outputs": [
    {
     "name": "stdout",
     "output_type": "stream",
     "text": [
      "<pymysql.cursors.Cursor object at 0x1214a25f0>\n"
     ]
    }
   ],
   "source": [
    "# Connect to the database\n",
    "conn = pymysql.connect(host=host, user=username, password=password, database='creditcard_capstone')\n",
    "cur = conn.cursor()\n",
    "print(cur)"
   ]
  },
  {
   "cell_type": "code",
   "execution_count": 17,
   "metadata": {},
   "outputs": [
    {
     "name": "stdout",
     "output_type": "stream",
     "text": [
      "+-----------+-----------+------------+------------+------------+-------------+----------+--------------------+\n",
      "|BRANCH_CITY|BRANCH_CODE| BRANCH_NAME|BRANCH_PHONE|BRANCH_STATE|BRANCH_STREET|BRANCH_ZIP|        LAST_UPDATED|\n",
      "+-----------+-----------+------------+------------+------------+-------------+----------+--------------------+\n",
      "|  Lakeville|          1|Example Bank|  1234565276|          MN| Bridle Court|     55044|2018-04-18T16:51:...|\n",
      "+-----------+-----------+------------+------------+------------+-------------+----------+--------------------+\n",
      "only showing top 1 row\n",
      "\n",
      "+-----------+----------------+---------+---+-----+--------------+----------------+-----------------+----+\n",
      "|BRANCH_CODE|  CREDIT_CARD_NO| CUST_SSN|DAY|MONTH|TRANSACTION_ID|TRANSACTION_TYPE|TRANSACTION_VALUE|YEAR|\n",
      "+-----------+----------------+---------+---+-----+--------------+----------------+-----------------+----+\n",
      "|        114|4210653349028689|123459988| 14|    2|             1|       Education|             78.9|2018|\n",
      "+-----------+----------------+---------+---+-----+--------------+----------------+-----------------+----+\n",
      "only showing top 1 row\n",
      "\n",
      "+------+----------------+---------+-------------+-------------------+----------+----------+--------+----------+---------+--------------------+-----------+---------+-----------------+\n",
      "|APT_NO|  CREDIT_CARD_NO|CUST_CITY| CUST_COUNTRY|         CUST_EMAIL|CUST_PHONE|CUST_STATE|CUST_ZIP|FIRST_NAME|LAST_NAME|        LAST_UPDATED|MIDDLE_NAME|      SSN|      STREET_NAME|\n",
      "+------+----------------+---------+-------------+-------------------+----------+----------+--------+----------+---------+--------------------+-----------+---------+-----------------+\n",
      "|   656|4210653310061055|  Natchez|United States|AHooper@example.com|   1237818|        MS|   39120|      Alec|   Hooper|2018-04-21T12:49:...|         Wm|123456100|Main Street North|\n",
      "+------+----------------+---------+-------------+-------------------+----------+----------+--------+----------+---------+--------------------+-----------+---------+-----------------+\n",
      "only showing top 1 row\n",
      "\n"
     ]
    }
   ],
   "source": [
    "spark = SparkSession.builder.appName('BankTransactions').getOrCreate()\n",
    "branchdf.createOrReplaceGlobalTempView('creditcard_capstone.CDW_SAPP_BRANCH')\n",
    "branchdf.show(1)\n",
    "creditdf.createOrReplaceGlobalTempView('creditcard_capstone.cdw_sapp_credit')\n",
    "creditdf.show(1)\n",
    "customerdf.createOrReplaceGlobalTempView('creditcard_capstone.cdw_sapp_customer')\n",
    "customerdf.show(1)\n"
   ]
  },
  {
   "cell_type": "code",
   "execution_count": 18,
   "metadata": {},
   "outputs": [
    {
     "name": "stdout",
     "output_type": "stream",
     "text": [
      "(('4210653310395982', 'NorthOlmsted', 'United States', 'BWoodard@example.com', '(880)124-2570', 'OH', '44070', 'Beau', 'Woodard', '2018-04-21T12:49:02.000-04:00', 'ambrose', 123454202, 'Colonial Drive, 3'),)\n"
     ]
    }
   ],
   "source": [
    "#22.1) Used to check the existing account details of a customer.\n",
    "def checkCusAccDetails(first_name, last_4_digits_SSN):\n",
    "    sqlSelect = \"SELECT * FROM cdw_sapp_customer \\\n",
    "        WHERE FIRST_NAME = '{}' AND RIGHT(SSN, 4) = '{}'\"\n",
    "    cur.execute(sqlSelect.format(first_name, last_4_digits_SSN))\n",
    "    result = cur.fetchall()\n",
    "    print(result)\n",
    "\n",
    "first_name = input(\"Enter First Name: \")\n",
    "last_4_digits_SSN = input(\"Enter last 4 digits of SSN: \")\n",
    "checkCusAccDetails(first_name, last_4_digits_SSN)"
   ]
  },
  {
   "cell_type": "code",
   "execution_count": 19,
   "metadata": {},
   "outputs": [
    {
     "name": "stdout",
     "output_type": "stream",
     "text": [
      "(('4210653310395982', 'NorthOlmsted', 'United States', 'BWoodard@example.com', '(880)124-2570', 'OH', '11377', 'Beau', 'Woodard', '2018-04-21T12:49:02.000-04:00', 'ambrose', 123454202, 'Colonial Drive, 3'),)\n"
     ]
    }
   ],
   "source": [
    "\n",
    "# 2.2 (2) Modify the existing account details of a customer.\n",
    "def modifyCusAccDetails(first_name, last_4_digits_SSN, zipcode):\n",
    "    sqlUpdate = \"UPDATE cdw_sapp_customer \\\n",
    "        SET CUST_ZIP = '{}' \\\n",
    "        WHERE FIRST_NAME = '{}' AND RIGHT(SSN, 4) = '{}'\"\n",
    "    sqlSelect = \"SELECT * FROM cdw_sapp_customer \\\n",
    "        WHERE FIRST_NAME = '{}' AND RIGHT(SSN, 4) = '{}'\"\n",
    "    cur.execute(sqlUpdate.format(zipcode, first_name, last_4_digits_SSN))\n",
    "    cur.execute(sqlSelect.format(first_name, last_4_digits_SSN))\n",
    "    result = cur.fetchall()\n",
    "    print(result)\n",
    "\n",
    "first_name = input(\"Enter First Name: \")\n",
    "last_4_digits_SSN = input(\"Enter last 4 digits of SSN: \")\n",
    "zipcode = input(\"Enter New Zip Code: \")\n",
    "modifyCusAccDetails(first_name, last_4_digits_SSN, zipcode)"
   ]
  },
  {
   "cell_type": "code",
   "execution_count": 20,
   "metadata": {},
   "outputs": [
    {
     "name": "stdout",
     "output_type": "stream",
     "text": [
      "(('4210653376655865', 'Bills', 7.78, '20180317'), ('4210653376655865', 'Healthcare', 12.61, '20180321'), ('4210653376655865', 'Healthcare', 25.09, '20180324'), ('4210653376655865', 'Test', 55.65, '20180312'), ('4210653376655865', 'Bills', 77.92, '20180319'))\n"
     ]
    }
   ],
   "source": [
    "# 2.2 (3) generate a monthly bill for a credit card number for a given month and year.\n",
    "def monthlyBill(credit_card_no, month, year):\n",
    "    sqlSelect = \"SELECT cr.credit_card_no, cr.TRANSACTION_TYPE, cr.TRANSACTION_VALUE, cr.TIMEID \\\n",
    "                FROM cdw_sapp_credit_CARD cr WHERE cr.credit_card_no = {} AND cr.MONTH = {} AND cr.YEAR = {}\"\n",
    "    \n",
    "    cur.execute(sqlSelect.format(credit_card_no, month, year))\n",
    "    result = cur.fetchall()\n",
    "    print(result)\n",
    "\n",
    "credit_card_no = input(\"Enter Customer Credit Card #: \")\n",
    "month = input(\"Enter Month 2 digit format: \")\n",
    "year = input(\"Enter 4 digit year: \")\n",
    "monthlyBill(credit_card_no, month, year)"
   ]
  },
  {
   "cell_type": "code",
   "execution_count": 21,
   "metadata": {},
   "outputs": [
    {
     "name": "stdout",
     "output_type": "stream",
     "text": [
      "(('4210653376655865', 'Education', 5.18, 'Example Bank'), ('4210653376655865', 'Gas', 83.58, 'Example Bank'), ('4210653376655865', 'Entertainment', 20.87, 'Example Bank'), ('4210653376655865', 'Test', 78.25, 'Example Bank'), ('4210653376655865', 'Test', 52.41, 'Example Bank'))\n"
     ]
    }
   ],
   "source": [
    "#2.2 (4) display the transactions made by a customer between two dates.\n",
    "def display_transactions_by_date(credit_card_no, startDate, endDate):\n",
    "    sqlSelect = \"SELECT c.CREDIT_CARD_NO, c.TRANSACTION_TYPE, c.TRANSACTION_VALUE, b.BRANCH_NAME FROM cdw_sapp_credit_card c \\\n",
    "                JOIN cdw_sapp_customer cust \\\n",
    "                      ON c.CREDIT_CARD_NO = cust.CREDIT_CARD_NO \\\n",
    "                JOIN cdw_sapp_branch b \\\n",
    "                    ON c.BRANCH_CODE = b.BRANCH_CODE \\\n",
    "                WHERE c.CREDIT_CARD_NO = {} \\\n",
    "                AND c.TIMEID BETWEEN '{}' AND '{}'\\\n",
    "                ORDER BY c.year, c.month, c.day DESC \"\n",
    "    cur.execute(sqlSelect.format(credit_card_no, startDate, endDate))\n",
    "    result = cur.fetchall()\n",
    "    print(result)\n",
    "credit_card_no = input(\"Enter Customer Credit Card #: \")\n",
    "startDate = input(\"Enter STARTDATE: \")\n",
    "endDate = input(\"Enter ENDDATE: \")\n",
    "display_transactions_by_date(credit_card_no, startDate, endDate)"
   ]
  },
  {
   "cell_type": "code",
   "execution_count": 22,
   "metadata": {},
   "outputs": [
    {
     "name": "stdout",
     "output_type": "stream",
     "text": [
      "((83.05, '11377', 3, 2018, 28), (31.75, '11377', 3, 2018, 28), (38.58, '11377', 3, 2018, 27), (7.58, '11377', 3, 2018, 25), (89.75, '11377', 3, 2018, 22), (95.31, '11377', 3, 2018, 22), (87.41, '11377', 3, 2018, 18), (68.55, '11377', 3, 2018, 16), (4.57, '11377', 3, 2018, 13), (92.16, '11377', 3, 2018, 10), (70.61, '11377', 3, 2018, 9), (55.98, '11377', 3, 2018, 6), (84.17, '11377', 3, 2018, 5), (25.51, '11377', 3, 2018, 5), (9.58, '11377', 3, 2018, 3), (5.38, '11377', 3, 2018, 3))\n"
     ]
    }
   ],
   "source": [
    "# 2,1 -1)Used to display the transactions made by customers living in a given zip code for a given month and year. Order by day in descending order.\n",
    "def displaytransactions(cust_zip, month, year):\n",
    "    sqlSelect = \"SELECT CR.TRANSACTION_VALUE, C.CUST_ZIP, CR.MONTH, CR.YEAR, CR.DAY \\\n",
    "        FROM cdw_sapp_customer C\\\n",
    "        JOIN cdw_sapp_credit_CARD CR\\\n",
    "        ON c.CREDIT_CARD_NO = cr.CREDIT_CARD_NO\\\n",
    "        WHERE c.CUST_ZIP = {} AND MONTH = {} AND YEAR = {}\\\n",
    "        ORDER BY DAY DESC\"\n",
    "   \n",
    "    #cur.execute(sqlUpdate.format(middle_name, first_name, last_4_digits_SSN))\n",
    "    cur.execute(sqlSelect.format(cust_zip, month, year))\n",
    "    result = cur.fetchall()\n",
    "    print(result)\n",
    "\n",
    "cust_zip = input(\"Enter Customer Zipcode: \")\n",
    "month = input(\"Enter Month 2 digit format: \")\n",
    "year = input(\"Enter 4 digit year: \")\n",
    "displaytransactions(cust_zip, month, year)"
   ]
  },
  {
   "cell_type": "code",
   "execution_count": 23,
   "metadata": {},
   "outputs": [
    {
     "name": "stdout",
     "output_type": "stream",
     "text": [
      "(('Gas', 6605, 336059.2600000003),)\n"
     ]
    }
   ],
   "source": [
    "#Functional Requirement 2.1 2) Used to display the number and total values of transactions for a given type.\n",
    "\n",
    "def displayvalues(transaction_type):\n",
    "    sqlSelect = \" SELECT cr.TRANSACTION_TYPE, COUNT(TRANSACTION_VALUE) AS COUNT, SUM(TRANSACTION_VALUE) AS TOTAL_VALUE \\\n",
    "        FROM cdw_sapp_credit_card cr where cr.TRANSACTION_TYPE = '{}' GROUP BY 1\"\n",
    "    cur.execute(sqlSelect.format(transaction_type))\n",
    "    result = cur.fetchall()\n",
    "    print(result)\n",
    "\n",
    "transaction_type = input(\"Enter Transaction Type: \")\n",
    "displayvalues(transaction_type)"
   ]
  },
  {
   "cell_type": "code",
   "execution_count": 24,
   "metadata": {},
   "outputs": [
    {
     "name": "stdout",
     "output_type": "stream",
     "text": [
      "(('NY', 4143, 213717.3800000001),)\n"
     ]
    }
   ],
   "source": [
    "# 2.1 3) Used to display the total values of transactions for branches in a given state.\n",
    "def displaybystate(state):\n",
    "    sqlSelect = \"SELECT b.BRANCH_STATE, count(c.TRANSACTION_ID), SUM(TRANSACTION_VALUE) AS TOTAL_VALUE \\\n",
    "        FROM CDW_SAPP_BRANCH b \\\n",
    "        JOIN creditcard_capstone.cdw_sapp_credit_card c \\\n",
    "        ON b.BRANCH_CODE = c.BRANCH_CODE \\\n",
    "        WHERE b.BRANCH_STATE = '{}' GROUP BY 1\"\n",
    "    \n",
    "    cur.execute(sqlSelect.format(state))\n",
    "    result = cur.fetchall()\n",
    "    print(result)\n",
    "    #print(type(result))\n",
    "\n",
    "state = input(\"Enter State 2 Letter format: \")\n",
    "displaybystate(state)\n",
    "\n"
   ]
  },
  {
   "cell_type": "code",
   "execution_count": 35,
   "metadata": {},
   "outputs": [
    {
     "name": "stdout",
     "output_type": "stream",
     "text": [
      "(('4210653310395982', 'NorthOlmsted', 'United States', 'BWoodard@example.com', '(880)124-2570', 'OH', '11377', 'Beau', 'Woodard', '2018-04-21T12:49:02.000-04:00', 'ambrose', 123454202, 'Colonial Drive, 3'),)\n"
     ]
    }
   ],
   "source": [
    "def custDetails(last_4_digits_SSN):\n",
    "    sqlSelect = \"SELECT * FROM cdw_sapp_customer \\\n",
    "        WHERE RIGHT(SSN, 4) = '{}'\"\n",
    "    cur.execute(sqlSelect.format(last_4_digits_SSN))\n",
    "    result = cur.fetchall()\n",
    "    print(result)\n",
    "\n",
    "last_4_digits_SSN = input(\"Enter last 4 digits of SSN: \")\n",
    "custDetails(last_4_digits_SSN)"
   ]
  },
  {
   "cell_type": "code",
   "execution_count": 37,
   "metadata": {},
   "outputs": [
    {
     "name": "stdout",
     "output_type": "stream",
     "text": [
      "Welcome to Banking Application select an option to begin!\n",
      "1. Display Customer Account Detail\n",
      "2. Display transaction count and total value by type\n",
      "3. Display transaction count and total value by branch state\n",
      "4. Exit ------>\n",
      "Enter your choice: You have Choice  3\n",
      "You have selected 3\n",
      "Enter the state: (('NY', 4143, 213717.3800000001),)\n",
      "None\n",
      "Welcome to Banking Application select an option to begin!\n",
      "1. Display Customer Account Detail\n",
      "2. Display transaction count and total value by type\n",
      "3. Display transaction count and total value by branch state\n",
      "4. Exit ------>\n",
      "Enter your choice: Invalid input. Please enter a int.\n",
      "Enter your choice: You have Choice  3\n",
      "You have selected 3\n",
      "Enter the state: No transactions found.\n",
      "Welcome to Banking Application select an option to begin!\n",
      "1. Display Customer Account Detail\n",
      "2. Display transaction count and total value by type\n",
      "3. Display transaction count and total value by branch state\n",
      "4. Exit ------>\n",
      "Enter your choice: You have Choice  4\n",
      "GoodBye!\n"
     ]
    }
   ],
   "source": [
    "# define a function to validate user input\n",
    "def validate_input(prompt, expected_type):\n",
    "    while True:\n",
    "        user_input = pyin.inputStr(prompt)\n",
    "        try:\n",
    "            validated_input = expected_type(user_input)\n",
    "            return validated_input\n",
    "        except ValueError:\n",
    "            print(f\"Invalid input. Please enter a {expected_type.__name__}.\")\n",
    "# define a loop for user interaction\n",
    "while True:\n",
    "    print(\"Welcome to Banking Application select an option to begin!\")\n",
    "    print(\"1. Display Customer Account Detail\")\n",
    "    print(\"2. Display transaction count and total value by type\")\n",
    "    print(\"3. Display transaction count and total value by branch state\")\n",
    "    print(\"4. Exit ------>\")\n",
    "\n",
    "    # validate user input displaytransactions(cust_zip, month, year)\n",
    "    choice = validate_input(\"Enter your choice: \", int)\n",
    "    print('You have Choice ', choice)\n",
    "    if choice == 1:\n",
    "        # display customer detail\n",
    "        last_4_digits_SSN = validate_input(\"Enter the Customer Last of SSN#: \", str)\n",
    "        print(\"You have enter \",last_4_digits_SSN)\n",
    "        result = custDetails(last_4_digits_SSN)\n",
    "        print(result)\n",
    "\n",
    "    elif choice == 2:\n",
    "        print('You have selected', choice)\n",
    "        # display transaction count and total value by type displayvalues(transaction_type)\n",
    "        TRANSACTION_TYPE = validate_input(\"Enter the transaction type: \", str)\n",
    "        result = displayvalues(transaction_type)\n",
    "        print(result)\n",
    "        \n",
    "    elif choice == 3:\n",
    "        print('You have selected', choice)\n",
    "        # display transaction count and total value by branch state displaybystate(state)\n",
    "        if state == validate_input(\"Enter the state: \", str):\n",
    "            result = displaybystate(state)\n",
    "            print(result)\n",
    "        else:\n",
    "            print(\"No transactions found.\")\n",
    "    elif choice == 4:\n",
    "        print(\"GoodBye!\")\n",
    "        # exit\n",
    "        break\n",
    "    else:\n",
    "        print(\"Invalid choice.\")\n",
    "        "
   ]
  },
  {
   "cell_type": "code",
   "execution_count": null,
   "metadata": {},
   "outputs": [],
   "source": [
    "# Close the connection \n",
    "conn.close()"
   ]
  }
 ],
 "metadata": {
  "kernelspec": {
   "display_name": "Python 3",
   "language": "python",
   "name": "python3"
  },
  "language_info": {
   "codemirror_mode": {
    "name": "ipython",
    "version": 3
   },
   "file_extension": ".py",
   "mimetype": "text/x-python",
   "name": "python",
   "nbconvert_exporter": "python",
   "pygments_lexer": "ipython3",
   "version": "3.10.10"
  },
  "orig_nbformat": 4,
  "vscode": {
   "interpreter": {
    "hash": "aee8b7b246df8f9039afb4144a1f6fd8d2ca17a180786b69acc140d282b71a49"
   }
  }
 },
 "nbformat": 4,
 "nbformat_minor": 2
}
