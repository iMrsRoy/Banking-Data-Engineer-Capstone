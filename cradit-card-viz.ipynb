{
 "cells": [
  {
   "attachments": {},
   "cell_type": "markdown",
   "metadata": {},
   "source": [
    "3. Data Analysis and Visualization"
   ]
  },
  {
   "cell_type": "code",
   "execution_count": 2,
   "metadata": {},
   "outputs": [],
   "source": [
    "import findspark\n",
    "findspark.init()\n",
    "\n",
    "from pyspark.sql import SparkSession\n",
    "from pyspark.sql.functions import*\n",
    "\n",
    "from pyspark.sql.types import StructType, StructField, StringType, IntegerType, BooleanType, DoubleType"
   ]
  },
  {
   "cell_type": "code",
   "execution_count": 3,
   "metadata": {},
   "outputs": [
    {
     "name": "stdout",
     "output_type": "stream",
     "text": [
      "23/02/28 20:18:09 WARN NativeCodeLoader: Unable to load native-hadoop library for your platform... using builtin-java classes where applicable\n"
     ]
    },
    {
     "name": "stderr",
     "output_type": "stream",
     "text": [
      "Setting default log level to \"WARN\".\n",
      "To adjust logging level use sc.setLogLevel(newLevel). For SparkR, use setLogLevel(newLevel).\n"
     ]
    },
    {
     "name": "stdout",
     "output_type": "stream",
     "text": [
      "23/02/28 20:18:11 WARN Utils: Service 'SparkUI' could not bind on port 4040. Attempting port 4041.\n",
      "23/02/28 20:18:11 WARN Utils: Service 'SparkUI' could not bind on port 4041. Attempting port 4042.\n",
      "23/02/28 20:18:11 WARN Utils: Service 'SparkUI' could not bind on port 4042. Attempting port 4043.\n",
      "23/02/28 20:18:11 WARN Utils: Service 'SparkUI' could not bind on port 4043. Attempting port 4044.\n"
     ]
    }
   ],
   "source": [
    "spark = SparkSession\\\n",
    "    .builder\\\n",
    "    .appName(\"capstone\")\\\n",
    "    .config(\"spark.jars\",\"/Users/roy/Downloads/mysql-connector-j-8.0.32/mysql-connector-j-8.0.32.jar\")\\\n",
    "    .getOrCreate()"
   ]
  },
  {
   "cell_type": "code",
   "execution_count": 4,
   "metadata": {},
   "outputs": [
    {
     "name": "stderr",
     "output_type": "stream",
     "text": [
      "                                                                                \r"
     ]
    },
    {
     "name": "stdout",
     "output_type": "stream",
     "text": [
      "+-----------+----------------+---------+---+-----+--------------+----------------+-----------------+----+--------+\n",
      "|BRANCH_CODE|  CREDIT_CARD_NO| CUST_SSN|DAY|MONTH|TRANSACTION_ID|TRANSACTION_TYPE|TRANSACTION_VALUE|YEAR|  TIMEID|\n",
      "+-----------+----------------+---------+---+-----+--------------+----------------+-----------------+----+--------+\n",
      "|        180|4210653342242023|123451310| 15|    3|         45069|           Bills|            77.79|2018|20180315|\n",
      "+-----------+----------------+---------+---+-----+--------------+----------------+-----------------+----+--------+\n",
      "only showing top 1 row\n",
      "\n"
     ]
    }
   ],
   "source": [
    "#connecting to db to read data\n",
    "dataviz = spark.read.format(\"jdbc\") \\\n",
    "  .option(\"url\", \"jdbc:mysql://localhost:3306/creditcard_capstone\") \\\n",
    "    .option(\"dbtable\", \"creditcard_capstone.CDW_SAPP_CREDIT_CARD\") \\\n",
    "          .option(\"user\", \"root\") \\\n",
    "            .option(\"password\", \"ShaShi3493*\") \\\n",
    "            .load()\n",
    "dataviz.show(1)"
   ]
  },
  {
   "cell_type": "code",
   "execution_count": 5,
   "metadata": {},
   "outputs": [
    {
     "name": "stderr",
     "output_type": "stream",
     "text": [
      "                                                                                \r"
     ]
    },
    {
     "data": {
      "text/html": [
       "<div>\n",
       "<style scoped>\n",
       "    .dataframe tbody tr th:only-of-type {\n",
       "        vertical-align: middle;\n",
       "    }\n",
       "\n",
       "    .dataframe tbody tr th {\n",
       "        vertical-align: top;\n",
       "    }\n",
       "\n",
       "    .dataframe thead th {\n",
       "        text-align: right;\n",
       "    }\n",
       "</style>\n",
       "<table border=\"1\" class=\"dataframe\">\n",
       "  <thead>\n",
       "    <tr style=\"text-align: right;\">\n",
       "      <th></th>\n",
       "      <th>BRANCH_CODE</th>\n",
       "      <th>CREDIT_CARD_NO</th>\n",
       "      <th>CUST_SSN</th>\n",
       "      <th>DAY</th>\n",
       "      <th>MONTH</th>\n",
       "      <th>TRANSACTION_ID</th>\n",
       "      <th>TRANSACTION_TYPE</th>\n",
       "      <th>TRANSACTION_VALUE</th>\n",
       "      <th>YEAR</th>\n",
       "      <th>TIMEID</th>\n",
       "    </tr>\n",
       "  </thead>\n",
       "  <tbody>\n",
       "    <tr>\n",
       "      <th>0</th>\n",
       "      <td>180</td>\n",
       "      <td>4210653342242023</td>\n",
       "      <td>123451310</td>\n",
       "      <td>15</td>\n",
       "      <td>3</td>\n",
       "      <td>45069</td>\n",
       "      <td>Bills</td>\n",
       "      <td>77.79</td>\n",
       "      <td>2018</td>\n",
       "      <td>20180315</td>\n",
       "    </tr>\n",
       "    <tr>\n",
       "      <th>1</th>\n",
       "      <td>114</td>\n",
       "      <td>4210653349028689</td>\n",
       "      <td>123459988</td>\n",
       "      <td>14</td>\n",
       "      <td>2</td>\n",
       "      <td>1</td>\n",
       "      <td>Education</td>\n",
       "      <td>78.90</td>\n",
       "      <td>2018</td>\n",
       "      <td>20180214</td>\n",
       "    </tr>\n",
       "  </tbody>\n",
       "</table>\n",
       "</div>"
      ],
      "text/plain": [
       "   BRANCH_CODE    CREDIT_CARD_NO   CUST_SSN  DAY  MONTH  TRANSACTION_ID  \\\n",
       "0          180  4210653342242023  123451310   15      3           45069   \n",
       "1          114  4210653349028689  123459988   14      2               1   \n",
       "\n",
       "  TRANSACTION_TYPE  TRANSACTION_VALUE  YEAR    TIMEID  \n",
       "0            Bills              77.79  2018  20180315  \n",
       "1        Education              78.90  2018  20180214  "
      ]
     },
     "execution_count": 5,
     "metadata": {},
     "output_type": "execute_result"
    }
   ],
   "source": [
    "# convert PySpark DataFrame to Pandas DataFrame\n",
    "cc_pd = dataviz.toPandas()\n",
    "cc_pd.head(2)"
   ]
  },
  {
   "cell_type": "code",
   "execution_count": 33,
   "metadata": {},
   "outputs": [
    {
     "data": {
      "text/html": [
       "<div>\n",
       "<style scoped>\n",
       "    .dataframe tbody tr th:only-of-type {\n",
       "        vertical-align: middle;\n",
       "    }\n",
       "\n",
       "    .dataframe tbody tr th {\n",
       "        vertical-align: top;\n",
       "    }\n",
       "\n",
       "    .dataframe thead th {\n",
       "        text-align: right;\n",
       "    }\n",
       "</style>\n",
       "<table border=\"1\" class=\"dataframe\">\n",
       "  <thead>\n",
       "    <tr style=\"text-align: right;\">\n",
       "      <th></th>\n",
       "      <th>BRANCH_CODE</th>\n",
       "      <th>CUST_SSN</th>\n",
       "      <th>DAY</th>\n",
       "      <th>MONTH</th>\n",
       "      <th>TRANSACTION_ID</th>\n",
       "      <th>TRANSACTION_VALUE</th>\n",
       "      <th>YEAR</th>\n",
       "    </tr>\n",
       "  </thead>\n",
       "  <tbody>\n",
       "    <tr>\n",
       "      <th>count</th>\n",
       "      <td>46694.000000</td>\n",
       "      <td>4.669400e+04</td>\n",
       "      <td>46694.000000</td>\n",
       "      <td>46694.000000</td>\n",
       "      <td>46694.000000</td>\n",
       "      <td>46694.000000</td>\n",
       "      <td>46694.0</td>\n",
       "    </tr>\n",
       "    <tr>\n",
       "      <th>mean</th>\n",
       "      <td>75.000578</td>\n",
       "      <td>1.234555e+08</td>\n",
       "      <td>14.507367</td>\n",
       "      <td>6.516876</td>\n",
       "      <td>23347.500000</td>\n",
       "      <td>51.039382</td>\n",
       "      <td>2018.0</td>\n",
       "    </tr>\n",
       "    <tr>\n",
       "      <th>std</th>\n",
       "      <td>51.389075</td>\n",
       "      <td>2.561261e+03</td>\n",
       "      <td>8.066305</td>\n",
       "      <td>3.453508</td>\n",
       "      <td>13479.541072</td>\n",
       "      <td>28.783264</td>\n",
       "      <td>0.0</td>\n",
       "    </tr>\n",
       "    <tr>\n",
       "      <th>min</th>\n",
       "      <td>1.000000</td>\n",
       "      <td>1.234510e+08</td>\n",
       "      <td>1.000000</td>\n",
       "      <td>1.000000</td>\n",
       "      <td>1.000000</td>\n",
       "      <td>1.010000</td>\n",
       "      <td>2018.0</td>\n",
       "    </tr>\n",
       "    <tr>\n",
       "      <th>25%</th>\n",
       "      <td>31.000000</td>\n",
       "      <td>1.234534e+08</td>\n",
       "      <td>8.000000</td>\n",
       "      <td>4.000000</td>\n",
       "      <td>11674.250000</td>\n",
       "      <td>25.970000</td>\n",
       "      <td>2018.0</td>\n",
       "    </tr>\n",
       "    <tr>\n",
       "      <th>50%</th>\n",
       "      <td>67.000000</td>\n",
       "      <td>1.234555e+08</td>\n",
       "      <td>15.000000</td>\n",
       "      <td>7.000000</td>\n",
       "      <td>23347.500000</td>\n",
       "      <td>51.110000</td>\n",
       "      <td>2018.0</td>\n",
       "    </tr>\n",
       "    <tr>\n",
       "      <th>75%</th>\n",
       "      <td>114.000000</td>\n",
       "      <td>1.234577e+08</td>\n",
       "      <td>21.000000</td>\n",
       "      <td>10.000000</td>\n",
       "      <td>35020.750000</td>\n",
       "      <td>75.940000</td>\n",
       "      <td>2018.0</td>\n",
       "    </tr>\n",
       "    <tr>\n",
       "      <th>max</th>\n",
       "      <td>192.000000</td>\n",
       "      <td>1.234600e+08</td>\n",
       "      <td>28.000000</td>\n",
       "      <td>12.000000</td>\n",
       "      <td>46694.000000</td>\n",
       "      <td>100.990000</td>\n",
       "      <td>2018.0</td>\n",
       "    </tr>\n",
       "  </tbody>\n",
       "</table>\n",
       "</div>"
      ],
      "text/plain": [
       "        BRANCH_CODE      CUST_SSN           DAY         MONTH  TRANSACTION_ID  \\\n",
       "count  46694.000000  4.669400e+04  46694.000000  46694.000000    46694.000000   \n",
       "mean      75.000578  1.234555e+08     14.507367      6.516876    23347.500000   \n",
       "std       51.389075  2.561261e+03      8.066305      3.453508    13479.541072   \n",
       "min        1.000000  1.234510e+08      1.000000      1.000000        1.000000   \n",
       "25%       31.000000  1.234534e+08      8.000000      4.000000    11674.250000   \n",
       "50%       67.000000  1.234555e+08     15.000000      7.000000    23347.500000   \n",
       "75%      114.000000  1.234577e+08     21.000000     10.000000    35020.750000   \n",
       "max      192.000000  1.234600e+08     28.000000     12.000000    46694.000000   \n",
       "\n",
       "       TRANSACTION_VALUE     YEAR  \n",
       "count       46694.000000  46694.0  \n",
       "mean           51.039382   2018.0  \n",
       "std            28.783264      0.0  \n",
       "min             1.010000   2018.0  \n",
       "25%            25.970000   2018.0  \n",
       "50%            51.110000   2018.0  \n",
       "75%            75.940000   2018.0  \n",
       "max           100.990000   2018.0  "
      ]
     },
     "execution_count": 33,
     "metadata": {},
     "output_type": "execute_result"
    }
   ],
   "source": [
    "cc_pd.describe()\n"
   ]
  },
  {
   "cell_type": "code",
   "execution_count": 13,
   "metadata": {},
   "outputs": [],
   "source": [
    "import pandas as pd\n",
    "import matplotlib.pyplot as mpl\n",
    "import seaborn as sb"
   ]
  },
  {
   "cell_type": "code",
   "execution_count": 59,
   "metadata": {},
   "outputs": [
    {
     "data": {
      "image/png": "[encoded data removed]",
      "text/plain": [
       "<Figure size 640x480 with 1 Axes>"
      ]
     },
     "metadata": {},
     "output_type": "display_data"
    }
   ],
   "source": [
    "# 3.1 Count the number of transactions for each transaction type\n",
    "transaction_counts = cc_pd[\"TRANSACTION_TYPE\"].value_counts()\n",
    "\n",
    "# Create a bar chart to visualize the result\n",
    "mpl.bar(  transaction_counts.index, transaction_counts.values)\n",
    "mpl.title(\"Number of Transactions by Transaction Type\")\n",
    "mpl.xlabel(\"Transaction Type\")\n",
    "mpl.ylabel(\"Number of Transactions\")\n",
    "mpl.grid(True, linewidth= 1.5, linestyle=\"--\", color= 'green')\n",
    "mpl.show()"
   ]
  },
  {
   "cell_type": "code",
   "execution_count": 74,
   "metadata": {},
   "outputs": [
    {
     "name": "stdout",
     "output_type": "stream",
     "text": [
      "+----------------+---------+-------------+-------------------+-------------+----------+--------+----------+---------+--------------------+-----------+---------+--------------------+\n",
      "|  CREDIT_CARD_NO|CUST_CITY| CUST_COUNTRY|         CUST_EMAIL|   CUST_PHONE|CUST_STATE|CUST_ZIP|FIRST_NAME|LAST_NAME|        LAST_UPDATED|MIDDLE_NAME|      SSN| FULL_STREET_ADDRESS|\n",
      "+----------------+---------+-------------+-------------------+-------------+----------+--------+----------+---------+--------------------+-----------+---------+--------------------+\n",
      "|4210653310061055|  Natchez|United States|AHooper@example.com|(880)123-7818|        MS|   39120|      Alec|   Hooper|2018-04-21T12:49:...|         wm|123456100|Main Street North...|\n",
      "+----------------+---------+-------------+-------------------+-------------+----------+--------+----------+---------+--------------------+-----------+---------+--------------------+\n",
      "only showing top 1 row\n",
      "\n"
     ]
    }
   ],
   "source": [
    "custviz = spark.read.format(\"jdbc\") \\\n",
    "  .option(\"url\", \"jdbc:mysql://localhost:3306/creditcard_capstone\") \\\n",
    "    .option(\"dbtable\", \"creditcard_capstone.CDW_SAPP_CUSTOMER\") \\\n",
    "          .option(\"user\", \"root\") \\\n",
    "            .option(\"password\", \"ShaShi3493*\") \\\n",
    "            .load()\n",
    "custviz.show(1)"
   ]
  },
  {
   "cell_type": "code",
   "execution_count": 76,
   "metadata": {},
   "outputs": [
    {
     "data": {
      "text/html": [
       "<div>\n",
       "<style scoped>\n",
       "    .dataframe tbody tr th:only-of-type {\n",
       "        vertical-align: middle;\n",
       "    }\n",
       "\n",
       "    .dataframe tbody tr th {\n",
       "        vertical-align: top;\n",
       "    }\n",
       "\n",
       "    .dataframe thead th {\n",
       "        text-align: right;\n",
       "    }\n",
       "</style>\n",
       "<table border=\"1\" class=\"dataframe\">\n",
       "  <thead>\n",
       "    <tr style=\"text-align: right;\">\n",
       "      <th></th>\n",
       "      <th>CREDIT_CARD_NO</th>\n",
       "      <th>CUST_CITY</th>\n",
       "      <th>CUST_COUNTRY</th>\n",
       "      <th>CUST_EMAIL</th>\n",
       "      <th>CUST_PHONE</th>\n",
       "      <th>CUST_STATE</th>\n",
       "      <th>CUST_ZIP</th>\n",
       "      <th>FIRST_NAME</th>\n",
       "      <th>LAST_NAME</th>\n",
       "      <th>LAST_UPDATED</th>\n",
       "      <th>MIDDLE_NAME</th>\n",
       "      <th>SSN</th>\n",
       "      <th>FULL_STREET_ADDRESS</th>\n",
       "    </tr>\n",
       "  </thead>\n",
       "  <tbody>\n",
       "    <tr>\n",
       "      <th>0</th>\n",
       "      <td>4210653310061055</td>\n",
       "      <td>Natchez</td>\n",
       "      <td>United States</td>\n",
       "      <td>AHooper@example.com</td>\n",
       "      <td>(880)123-7818</td>\n",
       "      <td>MS</td>\n",
       "      <td>39120</td>\n",
       "      <td>Alec</td>\n",
       "      <td>Hooper</td>\n",
       "      <td>2018-04-21T12:49:02.000-04:00</td>\n",
       "      <td>wm</td>\n",
       "      <td>123456100</td>\n",
       "      <td>Main Street North, 656</td>\n",
       "    </tr>\n",
       "    <tr>\n",
       "      <th>1</th>\n",
       "      <td>4210653310102868</td>\n",
       "      <td>Wethersfield</td>\n",
       "      <td>United States</td>\n",
       "      <td>EHolman@example.com</td>\n",
       "      <td>(880)123-8933</td>\n",
       "      <td>CT</td>\n",
       "      <td>06109</td>\n",
       "      <td>Etta</td>\n",
       "      <td>Holman</td>\n",
       "      <td>2018-04-21T12:49:02.000-04:00</td>\n",
       "      <td>brendan</td>\n",
       "      <td>123453023</td>\n",
       "      <td>Redwood Drive, 829</td>\n",
       "    </tr>\n",
       "  </tbody>\n",
       "</table>\n",
       "</div>"
      ],
      "text/plain": [
       "     CREDIT_CARD_NO     CUST_CITY   CUST_COUNTRY           CUST_EMAIL  \\\n",
       "0  4210653310061055       Natchez  United States  AHooper@example.com   \n",
       "1  4210653310102868  Wethersfield  United States  EHolman@example.com   \n",
       "\n",
       "      CUST_PHONE CUST_STATE CUST_ZIP FIRST_NAME LAST_NAME  \\\n",
       "0  (880)123-7818         MS    39120       Alec    Hooper   \n",
       "1  (880)123-8933         CT    06109       Etta    Holman   \n",
       "\n",
       "                    LAST_UPDATED MIDDLE_NAME        SSN  \\\n",
       "0  2018-04-21T12:49:02.000-04:00          wm  123456100   \n",
       "1  2018-04-21T12:49:02.000-04:00     brendan  123453023   \n",
       "\n",
       "      FULL_STREET_ADDRESS  \n",
       "0  Main Street North, 656  \n",
       "1      Redwood Drive, 829  "
      ]
     },
     "execution_count": 76,
     "metadata": {},
     "output_type": "execute_result"
    }
   ],
   "source": [
    "customer_pd = custviz.toPandas()\n",
    "customer_pd.head(2)"
   ]
  },
  {
   "cell_type": "code",
   "execution_count": 86,
   "metadata": {},
   "outputs": [
    {
     "data": {
      "image/png": "[encoded data removed]",
      "text/plain": [
       "<Figure size 640x480 with 1 Axes>"
      ]
     },
     "metadata": {},
     "output_type": "display_data"
    }
   ],
   "source": [
    "# 3.2 Count the number of customers in each state\n",
    "\n",
    "custviz = customer_pd[\"CUST_STATE\"].value_counts()\n",
    "\n",
    "# Create a bar chart to visualize the result\n",
    "mpl.bar(custviz.index, custviz.values)\n",
    "mpl.title(\"Number of Customers by State\")\n",
    "mpl.xlabel(\"State\")\n",
    "mpl.ylabel(\"Number of Customers\")\n",
    "mpl.grid(True, linewidth= 2, linestyle=\" \")\n",
    "mpl.show()\n"
   ]
  },
  {
   "cell_type": "code",
   "execution_count": null,
   "metadata": {},
   "outputs": [],
   "source": [
    "# 3.3 \n",
    "\n"
   ]
  }
 ],
 "metadata": {
  "kernelspec": {
   "display_name": "Python 3",
   "language": "python",
   "name": "python3"
  },
  "language_info": {
   "codemirror_mode": {
    "name": "ipython",
    "version": 3
   },
   "file_extension": ".py",
   "mimetype": "text/x-python",
   "name": "python",
   "nbconvert_exporter": "python",
   "pygments_lexer": "ipython3",
   "version": "3.10.10"
  },
  "orig_nbformat": 4,
  "vscode": {
   "interpreter": {
    "hash": "aee8b7b246df8f9039afb4144a1f6fd8d2ca17a180786b69acc140d282b71a49"
   }
  }
 },
 "nbformat": 4,
 "nbformat_minor": 2
}
