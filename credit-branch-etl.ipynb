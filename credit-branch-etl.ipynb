{
 "cells": [
  {
   "attachments": {},
   "cell_type": "markdown",
   "metadata": {},
   "source": [
    "# Mapping Done"
   ]
  },
  {
   "cell_type": "code",
   "execution_count": 5,
   "metadata": {},
   "outputs": [],
   "source": [
    "#import spark as sp\n",
    "import findspark\n",
    "findspark.init()\n",
    "\n",
    "import pyspark\n",
    "from pyspark.sql import SparkSession\n",
    "from pyspark.sql.functions import*\n",
    "from pyspark.sql.functions import col, coalesce\n",
    "\n",
    "from pyspark.sql.types import StructType, StructField, StringType, IntegerType, BooleanType, DoubleType"
   ]
  },
  {
   "cell_type": "markdown",
   "metadata": {},
   "source": [
    "spark = SparkSession.builder.appName(\"cdw_sapp_branch.json\").getOrCreate()\n",
    "df_branch = spark.read.format(\"json\") \\\n",
    "    .option(\"header\", True) \\\n",
    "    .load(\"cdw_sapp_branch.json\")"
   ]
  },
  {
   "cell_type": "code",
   "execution_count": 6,
   "metadata": {},
   "outputs": [],
   "source": [
    "spark = SparkSession\\\n",
    "    .builder\\\n",
    "    .appName(\"capstone\")\\\n",
    "    .config(\"spark.jars\",\"/Users/roy/Downloads/mysql-connector-j-8.0.32/mysql-connector-j-8.0.32.jar\")\\\n",
    "    .getOrCreate()"
   ]
  },
  {
   "cell_type": "code",
   "execution_count": 7,
   "metadata": {},
   "outputs": [
    {
     "name": "stdout",
     "output_type": "stream",
     "text": [
      "root\n",
      " |-- BRANCH_CITY: string (nullable = true)\n",
      " |-- BRANCH_CODE: long (nullable = true)\n",
      " |-- BRANCH_NAME: string (nullable = true)\n",
      " |-- BRANCH_PHONE: string (nullable = true)\n",
      " |-- BRANCH_STATE: string (nullable = true)\n",
      " |-- BRANCH_STREET: string (nullable = true)\n",
      " |-- BRANCH_ZIP: long (nullable = true)\n",
      " |-- LAST_UPDATED: string (nullable = true)\n",
      "\n",
      "+-----------+-----------+------------+------------+------------+-----------------+----------+--------------------+\n",
      "|BRANCH_CITY|BRANCH_CODE| BRANCH_NAME|BRANCH_PHONE|BRANCH_STATE|    BRANCH_STREET|BRANCH_ZIP|        LAST_UPDATED|\n",
      "+-----------+-----------+------------+------------+------------+-----------------+----------+--------------------+\n",
      "|  Lakeville|          1|Example Bank|  1234565276|          MN|     Bridle Court|     55044|2018-04-18T16:51:...|\n",
      "|    Huntley|          2|Example Bank|  1234618993|          IL|Washington Street|     60142|2018-04-18T16:51:...|\n",
      "+-----------+-----------+------------+------------+------------+-----------------+----------+--------------------+\n",
      "only showing top 2 rows\n",
      "\n"
     ]
    }
   ],
   "source": [
    "df_branch = spark.read.format(\"json\") \\\n",
    "    .option(\"header\", True) \\\n",
    "    .load(\"cdw_sapp_branch.json\")\n",
    "\n",
    "df_branch.printSchema()\n",
    "df_branch.show(2)\n"
   ]
  },
  {
   "attachments": {},
   "cell_type": "markdown",
   "metadata": {},
   "source": [
    "Mapping Logics"
   ]
  },
  {
   "cell_type": "code",
   "execution_count": 8,
   "metadata": {},
   "outputs": [
    {
     "name": "stdout",
     "output_type": "stream",
     "text": [
      "+-----------+-----------+------------+-------------+------------+-----------------+----------+--------------------+\n",
      "|BRANCH_CITY|BRANCH_CODE| BRANCH_NAME| BRANCH_PHONE|BRANCH_STATE|    BRANCH_STREET|BRANCH_ZIP|        LAST_UPDATED|\n",
      "+-----------+-----------+------------+-------------+------------+-----------------+----------+--------------------+\n",
      "|  Lakeville|          1|Example Bank|(123)456-5276|          MN|     Bridle Court|     55044|2018-04-18T16:51:...|\n",
      "|    Huntley|          2|Example Bank|(123)461-8993|          IL|Washington Street|     60142|2018-04-18T16:51:...|\n",
      "+-----------+-----------+------------+-------------+------------+-----------------+----------+--------------------+\n",
      "only showing top 2 rows\n",
      "\n"
     ]
    }
   ],
   "source": [
    "#Change the format of phone number to (XXX)XXX-XXXX\n",
    "df_branch = df_branch.withColumn('BRANCH_PHONE', concat(lit('('), df_branch['BRANCH_PHONE'].substr(1,3), lit(')'),df_branch['BRANCH_PHONE'].substr(4,3), lit('-'),df_branch['BRANCH_PHONE'].substr(7,4)))\n",
    "\n",
    "df_branch.show(2)"
   ]
  },
  {
   "cell_type": "code",
   "execution_count": 9,
   "metadata": {},
   "outputs": [
    {
     "name": "stdout",
     "output_type": "stream",
     "text": [
      "+-----------+-----------+------------+-------------+------------+-------------+----------+--------------------+\n",
      "|BRANCH_CITY|BRANCH_CODE| BRANCH_NAME| BRANCH_PHONE|BRANCH_STATE|BRANCH_STREET|branch_zip|        LAST_UPDATED|\n",
      "+-----------+-----------+------------+-------------+------------+-------------+----------+--------------------+\n",
      "|  Lakeville|          1|Example Bank|(123)456-5276|          MN| Bridle Court|     55044|2018-04-18T16:51:...|\n",
      "+-----------+-----------+------------+-------------+------------+-------------+----------+--------------------+\n",
      "only showing top 1 row\n",
      "\n"
     ]
    }
   ],
   "source": [
    "# Replace null values in \"branch_zip\" column with \"99999\"\n",
    "df_branch = df_branch.withColumn(\"branch_zip\", when(df_branch[\"branch_zip\"].isNull(), \"99999\").otherwise(df_branch[\"branch_zip\"]))\n",
    "\n",
    "# Show the updated DataFrame\n",
    "df_branch.show(1)\n",
    "\n"
   ]
  },
  {
   "cell_type": "code",
   "execution_count": 10,
   "metadata": {},
   "outputs": [],
   "source": [
    "df_branch.write.format(\"jdbc\") \\\n",
    "  .option(\"url\", \"jdbc:mysql://localhost:3306/creditcard_capstone\") \\\n",
    "    .option(\"dbtable\", \"creditcard_capstone.CDW_SAPP_BRANCH\") \\\n",
    "          .option(\"user\", \"root\") \\\n",
    "            .option(\"password\", \"password\") \\\n",
    "            .mode(\"overwrite\")\\\n",
    "            .save()\n"
   ]
  },
  {
   "cell_type": "code",
   "execution_count": 11,
   "metadata": {},
   "outputs": [
    {
     "name": "stdout",
     "output_type": "stream",
     "text": [
      "+-----------+-----------+------------+-------------+------------+-------------+----------+--------------------+\n",
      "|BRANCH_CITY|BRANCH_CODE| BRANCH_NAME| BRANCH_PHONE|BRANCH_STATE|BRANCH_STREET|branch_zip|        LAST_UPDATED|\n",
      "+-----------+-----------+------------+-------------+------------+-------------+----------+--------------------+\n",
      "|  Lakeville|          1|Example Bank|(123)456-5276|          MN| Bridle Court|     55044|2018-04-18T16:51:...|\n",
      "+-----------+-----------+------------+-------------+------------+-------------+----------+--------------------+\n",
      "only showing top 1 row\n",
      "\n"
     ]
    }
   ],
   "source": [
    "# Show the updated DataFrame\n",
    "df_branch.show(1)"
   ]
  },
  {
   "cell_type": "code",
   "execution_count": 16,
   "metadata": {},
   "outputs": [
    {
     "data": {
      "text/html": [
       "<div>\n",
       "<style scoped>\n",
       "    .dataframe tbody tr th:only-of-type {\n",
       "        vertical-align: middle;\n",
       "    }\n",
       "\n",
       "    .dataframe tbody tr th {\n",
       "        vertical-align: top;\n",
       "    }\n",
       "\n",
       "    .dataframe thead th {\n",
       "        text-align: right;\n",
       "    }\n",
       "</style>\n",
       "<table border=\"1\" class=\"dataframe\">\n",
       "  <thead>\n",
       "    <tr style=\"text-align: right;\">\n",
       "      <th></th>\n",
       "      <th>BRANCH_CITY</th>\n",
       "      <th>BRANCH_CODE</th>\n",
       "      <th>BRANCH_NAME</th>\n",
       "      <th>BRANCH_PHONE</th>\n",
       "      <th>BRANCH_STATE</th>\n",
       "      <th>BRANCH_STREET</th>\n",
       "      <th>branch_zip</th>\n",
       "      <th>LAST_UPDATED</th>\n",
       "    </tr>\n",
       "  </thead>\n",
       "  <tbody>\n",
       "    <tr>\n",
       "      <th>0</th>\n",
       "      <td>Lakeville</td>\n",
       "      <td>1</td>\n",
       "      <td>Example Bank</td>\n",
       "      <td>(123)456-5276</td>\n",
       "      <td>MN</td>\n",
       "      <td>Bridle Court</td>\n",
       "      <td>55044</td>\n",
       "      <td>2018-04-18T16:51:47.000-04:00</td>\n",
       "    </tr>\n",
       "    <tr>\n",
       "      <th>1</th>\n",
       "      <td>Huntley</td>\n",
       "      <td>2</td>\n",
       "      <td>Example Bank</td>\n",
       "      <td>(123)461-8993</td>\n",
       "      <td>IL</td>\n",
       "      <td>Washington Street</td>\n",
       "      <td>60142</td>\n",
       "      <td>2018-04-18T16:51:47.000-04:00</td>\n",
       "    </tr>\n",
       "  </tbody>\n",
       "</table>\n",
       "</div>"
      ],
      "text/plain": [
       "  BRANCH_CITY  BRANCH_CODE   BRANCH_NAME   BRANCH_PHONE BRANCH_STATE  \\\n",
       "0   Lakeville            1  Example Bank  (123)456-5276           MN   \n",
       "1     Huntley            2  Example Bank  (123)461-8993           IL   \n",
       "\n",
       "       BRANCH_STREET branch_zip                   LAST_UPDATED  \n",
       "0       Bridle Court      55044  2018-04-18T16:51:47.000-04:00  \n",
       "1  Washington Street      60142  2018-04-18T16:51:47.000-04:00  "
      ]
     },
     "execution_count": 16,
     "metadata": {},
     "output_type": "execute_result"
    }
   ],
   "source": [
    "# making csv files\n",
    "import pandas as pd\n",
    "\n",
    "# convert PySpark DataFrame to Pandas DataFrame\n",
    "branch_pd = df_branch.toPandas()\n",
    "\n",
    "# save Pandas DataFrame to CSV file\n",
    "branch_pd.to_csv('branch.csv', index=False)\n",
    "\n",
    "branch_pd.head(2)"
   ]
  }
 ],
 "metadata": {
  "kernelspec": {
   "display_name": "Python 3",
   "language": "python",
   "name": "python3"
  },
  "language_info": {
   "codemirror_mode": {
    "name": "ipython",
    "version": 3
   },
   "file_extension": ".py",
   "mimetype": "text/x-python",
   "name": "python",
   "nbconvert_exporter": "python",
   "pygments_lexer": "ipython3",
   "version": "3.10.10"
  },
  "orig_nbformat": 4,
  "vscode": {
   "interpreter": {
    "hash": "aee8b7b246df8f9039afb4144a1f6fd8d2ca17a180786b69acc140d282b71a49"
   }
  }
 },
 "nbformat": 4,
 "nbformat_minor": 2
}
