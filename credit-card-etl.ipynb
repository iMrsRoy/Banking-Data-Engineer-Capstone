{
 "cells": [
  {
   "attachments": {},
   "cell_type": "markdown",
   "metadata": {},
   "source": [
    "# Completed Mapping Logic"
   ]
  },
  {
   "cell_type": "code",
   "execution_count": 16,
   "metadata": {},
   "outputs": [],
   "source": [
    "#import spark as sp\n",
    "import findspark\n",
    "findspark.init()\n",
    "\n",
    "import pyspark\n",
    "from pyspark.sql import SparkSession\n",
    "from pyspark.sql.functions import*\n",
    "\n",
    "from pyspark.sql.types import StructType, StructField, StringType, IntegerType, BooleanType, DoubleType"
   ]
  },
  {
   "cell_type": "code",
   "execution_count": 17,
   "metadata": {},
   "outputs": [
    {
     "name": "stdout",
     "output_type": "stream",
     "text": [
      "+-----------+----------------+---------+---+-----+--------------+----------------+-----------------+----+\n",
      "|BRANCH_CODE|  CREDIT_CARD_NO| CUST_SSN|DAY|MONTH|TRANSACTION_ID|TRANSACTION_TYPE|TRANSACTION_VALUE|YEAR|\n",
      "+-----------+----------------+---------+---+-----+--------------+----------------+-----------------+----+\n",
      "|        114|4210653349028689|123459988| 14|    2|             1|       Education|             78.9|2018|\n",
      "|         35|4210653349028689|123459988| 20|    3|             2|   Entertainment|            14.24|2018|\n",
      "|        160|4210653349028689|123459988|  8|    7|             3|         Grocery|             56.7|2018|\n",
      "|        114|4210653349028689|123459988| 19|    4|             4|   Entertainment|            59.73|2018|\n",
      "|         93|4210653349028689|123459988| 10|   10|             5|             Gas|             3.59|2018|\n",
      "+-----------+----------------+---------+---+-----+--------------+----------------+-----------------+----+\n",
      "only showing top 5 rows\n",
      "\n"
     ]
    }
   ],
   "source": [
    "spark = SparkSession\\\n",
    "    .builder\\\n",
    "    .appName(\"capstone\")\\\n",
    "    .config(\"spark.jars\",\"/Users/roy/Downloads/mysql-connector-j-8.0.32/mysql-connector-j-8.0.32.jar\")\\\n",
    "    .getOrCreate()\n",
    "\n",
    "CC_DF = spark.read.format(\"json\") \\\n",
    "    .option(\"header\", True) \\\n",
    "    .load(\"cdw_sapp_credit.json\")\n",
    "CC_DF.show(5)"
   ]
  },
  {
   "cell_type": "code",
   "execution_count": 18,
   "metadata": {},
   "outputs": [
    {
     "name": "stdout",
     "output_type": "stream",
     "text": [
      "root\n",
      " |-- BRANCH_CODE: long (nullable = true)\n",
      " |-- CREDIT_CARD_NO: string (nullable = true)\n",
      " |-- CUST_SSN: long (nullable = true)\n",
      " |-- DAY: long (nullable = true)\n",
      " |-- MONTH: long (nullable = true)\n",
      " |-- TRANSACTION_ID: long (nullable = true)\n",
      " |-- TRANSACTION_TYPE: string (nullable = true)\n",
      " |-- TRANSACTION_VALUE: double (nullable = true)\n",
      " |-- YEAR: long (nullable = true)\n",
      "\n"
     ]
    }
   ],
   "source": [
    "CC_DF.printSchema()"
   ]
  },
  {
   "attachments": {},
   "cell_type": "markdown",
   "metadata": {},
   "source": [
    "Mapping Logics"
   ]
  },
  {
   "cell_type": "code",
   "execution_count": 19,
   "metadata": {},
   "outputs": [
    {
     "name": "stdout",
     "output_type": "stream",
     "text": [
      "+-----------+----------------+---------+---+-----+--------------+----------------+-----------------+----+--------+\n",
      "|BRANCH_CODE|  CREDIT_CARD_NO| CUST_SSN|DAY|MONTH|TRANSACTION_ID|TRANSACTION_TYPE|TRANSACTION_VALUE|YEAR|  TIMEID|\n",
      "+-----------+----------------+---------+---+-----+--------------+----------------+-----------------+----+--------+\n",
      "|        114|4210653349028689|123459988| 14|    2|             1|       Education|             78.9|2018|20180214|\n",
      "+-----------+----------------+---------+---+-----+--------------+----------------+-----------------+----+--------+\n",
      "only showing top 1 row\n",
      "\n"
     ]
    }
   ],
   "source": [
    "#Convert DAY, MONTH, and YEAR into a TIMEID (YYYYMMDD)\n",
    "from pyspark.sql.functions import concat_ws, lpad\n",
    "\n",
    "# create a new column called \"TIMEID\" by concatenating YEAR, MONTH, and DAY columns\n",
    "CC_DF = CC_DF.withColumn(\"TIMEID\", concat_ws(\"\", \"YEAR\", lpad(\"MONTH\", 2, \"0\"), lpad(\"DAY\", 2, \"0\")))\n",
    "\n",
    "# display the new data frame with the TIMEID column drop the others\n",
    "CC_DF.show(1)\n"
   ]
  },
  {
   "cell_type": "code",
   "execution_count": 20,
   "metadata": {},
   "outputs": [
    {
     "name": "stderr",
     "output_type": "stream",
     "text": [
      "[Stage 18:===================>                                      (1 + 2) / 3]\r"
     ]
    },
    {
     "name": "stdout",
     "output_type": "stream",
     "text": [
      "+-----------+----------------+---------+---+-----+--------------+----------------+-----------------+----+--------+\n",
      "|BRANCH_CODE|  CREDIT_CARD_NO| CUST_SSN|DAY|MONTH|TRANSACTION_ID|TRANSACTION_TYPE|TRANSACTION_VALUE|YEAR|  TIMEID|\n",
      "+-----------+----------------+---------+---+-----+--------------+----------------+-----------------+----+--------+\n",
      "|        114|4210653349028689|123459988| 14|    2|             1|       Education|             78.9|2018|20180214|\n",
      "+-----------+----------------+---------+---+-----+--------------+----------------+-----------------+----+--------+\n",
      "only showing top 1 row\n",
      "\n"
     ]
    },
    {
     "name": "stderr",
     "output_type": "stream",
     "text": [
      "                                                                                \r"
     ]
    }
   ],
   "source": [
    "CC_DF.write.format(\"jdbc\") \\\n",
    "  .option(\"url\", \"jdbc:mysql://localhost:3306/creditcard_capstone\") \\\n",
    "    .option(\"dbtable\", \"creditcard_capstone.CDW_SAPP_CREDIT_CARD\") \\\n",
    "          .option(\"user\", \"root\") \\\n",
    "            .option(\"password\", \"ShaShi3493*\") \\\n",
    "            .mode(\"overwrite\")\\\n",
    "            .save()\n",
    "CC_DF.show(1)"
   ]
  },
  {
   "cell_type": "code",
   "execution_count": 21,
   "metadata": {},
   "outputs": [
    {
     "data": {
      "text/html": [
       "<div>\n",
       "<style scoped>\n",
       "    .dataframe tbody tr th:only-of-type {\n",
       "        vertical-align: middle;\n",
       "    }\n",
       "\n",
       "    .dataframe tbody tr th {\n",
       "        vertical-align: top;\n",
       "    }\n",
       "\n",
       "    .dataframe thead th {\n",
       "        text-align: right;\n",
       "    }\n",
       "</style>\n",
       "<table border=\"1\" class=\"dataframe\">\n",
       "  <thead>\n",
       "    <tr style=\"text-align: right;\">\n",
       "      <th></th>\n",
       "      <th>BRANCH_CODE</th>\n",
       "      <th>CREDIT_CARD_NO</th>\n",
       "      <th>CUST_SSN</th>\n",
       "      <th>DAY</th>\n",
       "      <th>MONTH</th>\n",
       "      <th>TRANSACTION_ID</th>\n",
       "      <th>TRANSACTION_TYPE</th>\n",
       "      <th>TRANSACTION_VALUE</th>\n",
       "      <th>YEAR</th>\n",
       "      <th>TIMEID</th>\n",
       "    </tr>\n",
       "  </thead>\n",
       "  <tbody>\n",
       "    <tr>\n",
       "      <th>0</th>\n",
       "      <td>114</td>\n",
       "      <td>4210653349028689</td>\n",
       "      <td>123459988</td>\n",
       "      <td>14</td>\n",
       "      <td>2</td>\n",
       "      <td>1</td>\n",
       "      <td>Education</td>\n",
       "      <td>78.90</td>\n",
       "      <td>2018</td>\n",
       "      <td>20180214</td>\n",
       "    </tr>\n",
       "    <tr>\n",
       "      <th>1</th>\n",
       "      <td>35</td>\n",
       "      <td>4210653349028689</td>\n",
       "      <td>123459988</td>\n",
       "      <td>20</td>\n",
       "      <td>3</td>\n",
       "      <td>2</td>\n",
       "      <td>Entertainment</td>\n",
       "      <td>14.24</td>\n",
       "      <td>2018</td>\n",
       "      <td>20180320</td>\n",
       "    </tr>\n",
       "  </tbody>\n",
       "</table>\n",
       "</div>"
      ],
      "text/plain": [
       "   BRANCH_CODE    CREDIT_CARD_NO   CUST_SSN  DAY  MONTH  TRANSACTION_ID  \\\n",
       "0          114  4210653349028689  123459988   14      2               1   \n",
       "1           35  4210653349028689  123459988   20      3               2   \n",
       "\n",
       "  TRANSACTION_TYPE  TRANSACTION_VALUE  YEAR    TIMEID  \n",
       "0        Education              78.90  2018  20180214  \n",
       "1    Entertainment              14.24  2018  20180320  "
      ]
     },
     "execution_count": 21,
     "metadata": {},
     "output_type": "execute_result"
    }
   ],
   "source": [
    "# making csv files\n",
    "import pandas as pd\n",
    "\n",
    "# convert PySpark DataFrame to Pandas DataFrame\n",
    "cc_pd = CC_DF.toPandas()\n",
    "\n",
    "# save Pandas DataFrame to CSV file\n",
    "cc_pd.to_csv('creditcard.csv', index=False)\n",
    "\n",
    "cc_pd.head(2)"
   ]
  }
 ],
 "metadata": {
  "kernelspec": {
   "display_name": "Python 3",
   "language": "python",
   "name": "python3"
  },
  "language_info": {
   "codemirror_mode": {
    "name": "ipython",
    "version": 3
   },
   "file_extension": ".py",
   "mimetype": "text/x-python",
   "name": "python",
   "nbconvert_exporter": "python",
   "pygments_lexer": "ipython3",
   "version": "3.10.10"
  },
  "orig_nbformat": 4,
  "vscode": {
   "interpreter": {
    "hash": "aee8b7b246df8f9039afb4144a1f6fd8d2ca17a180786b69acc140d282b71a49"
   }
  }
 },
 "nbformat": 4,
 "nbformat_minor": 2
}
