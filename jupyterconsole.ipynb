{
 "cells": [
  {
   "attachments": {},
   "cell_type": "markdown",
   "metadata": {},
   "source": [
    "#2"
   ]
  },
  {
   "cell_type": "code",
   "execution_count": 32,
   "metadata": {},
   "outputs": [],
   "source": [
    "import pyspark as psk\n",
    "import pandas as pd\n",
    "from pyspark.sql import SparkSession\n",
    "from pyspark.sql.functions import *\n",
    "import pyinputplus as pyin\n",
    "import warnings\n",
    "import mysql.connector \n"
   ]
  },
  {
   "cell_type": "code",
   "execution_count": 33,
   "metadata": {},
   "outputs": [],
   "source": [
    "import sys\n",
    "import os\n",
    "import findspark\n",
    "findspark.init()"
   ]
  },
  {
   "cell_type": "code",
   "execution_count": 34,
   "metadata": {},
   "outputs": [],
   "source": [
    "# suppress warnings\n",
    "warnings.filterwarnings('ignore')"
   ]
  },
  {
   "cell_type": "code",
   "execution_count": null,
   "metadata": {},
   "outputs": [],
   "source": [
    "# create a SparkSession\n",
    "spark = SparkSession\\\n",
    "    .builder\\\n",
    "    .appName(\"PYCONSOLE\")\\\n",
    "    .config(\"spark.jars\",\"/Users/roy/Downloads/mysql-connector-j-8.0.32/mysql-connector-j-8.0.32.jar\")\\\n",
    "    .getOrCreate()\n",
    "\n",
    "# define MySQL connection parameters\n",
    "mysql_hostname = \"localhost\"\n",
    "mysql_port = 3306\n",
    "mysql_database = \"creditcard_capstone\"\n",
    "mysql_username = \"root\"\n",
    "mysql_password = \"ShaShi3493*\""
   ]
  },
  {
   "cell_type": "code",
   "execution_count": 37,
   "metadata": {},
   "outputs": [
    {
     "ename": "NotSupportedError",
     "evalue": "Authentication plugin 'caching_sha2_password' is not supported",
     "output_type": "error",
     "traceback": [
      "\u001b[0;31m---------------------------------------------------------------------------\u001b[0m",
      "\u001b[0;31mNotSupportedError\u001b[0m                         Traceback (most recent call last)",
      "Cell \u001b[0;32mIn[37], line 10\u001b[0m\n\u001b[1;32m      8\u001b[0m mysql_password \u001b[39m=\u001b[39m \u001b[39m\"\u001b[39m\u001b[39mShaShi3493*\u001b[39m\u001b[39m\"\u001b[39m\n\u001b[1;32m      9\u001b[0m \u001b[39m# connect to MySQL database\u001b[39;00m\n\u001b[0;32m---> 10\u001b[0m cnx \u001b[39m=\u001b[39m mysql\u001b[39m.\u001b[39;49mconnector\u001b[39m.\u001b[39;49mconnect(user\u001b[39m=\u001b[39;49mmysql_username, password\u001b[39m=\u001b[39;49mmysql_password,\n\u001b[1;32m     11\u001b[0m                               host\u001b[39m=\u001b[39;49mmysql_hostname, database\u001b[39m=\u001b[39;49mmysql_database)\n\u001b[1;32m     13\u001b[0m query \u001b[39m=\u001b[39m \u001b[39m\"\u001b[39m\u001b[39m(SELECT * FROM cdw_sapp_branch bc \u001b[39m\u001b[39m\\\u001b[39;00m\n\u001b[1;32m     14\u001b[0m \u001b[39m      JOIN cdw_sapp_credit_card cc ON bc.BRANCH_CODE = cc.BRANCH_CODE \u001b[39m\u001b[39m\\\u001b[39;00m\n\u001b[1;32m     15\u001b[0m \u001b[39m        JOIN cdw_sapp_customer as cust ON cc.CUST_SSN = cust.SSN)\u001b[39m\u001b[39m\"\u001b[39m\n\u001b[1;32m     17\u001b[0m \u001b[39mdef\u001b[39;00m \u001b[39mexecute_query\u001b[39m(query):\n",
      "File \u001b[0;32m/usr/local/lib/python3.10/site-packages/mysql/connector/__init__.py:179\u001b[0m, in \u001b[0;36mconnect\u001b[0;34m(*args, **kwargs)\u001b[0m\n\u001b[1;32m    177\u001b[0m     \u001b[39mreturn\u001b[39;00m CMySQLConnection(\u001b[39m*\u001b[39margs, \u001b[39m*\u001b[39m\u001b[39m*\u001b[39mkwargs)\n\u001b[1;32m    178\u001b[0m \u001b[39melse\u001b[39;00m:\n\u001b[0;32m--> 179\u001b[0m     \u001b[39mreturn\u001b[39;00m MySQLConnection(\u001b[39m*\u001b[39;49margs, \u001b[39m*\u001b[39;49m\u001b[39m*\u001b[39;49mkwargs)\n",
      "File \u001b[0;32m/usr/local/lib/python3.10/site-packages/mysql/connector/connection.py:95\u001b[0m, in \u001b[0;36mMySQLConnection.__init__\u001b[0;34m(self, *args, **kwargs)\u001b[0m\n\u001b[1;32m     92\u001b[0m \u001b[39mself\u001b[39m\u001b[39m.\u001b[39m_pool_config_version \u001b[39m=\u001b[39m \u001b[39mNone\u001b[39;00m\n\u001b[1;32m     94\u001b[0m \u001b[39mif\u001b[39;00m \u001b[39mlen\u001b[39m(kwargs) \u001b[39m>\u001b[39m \u001b[39m0\u001b[39m:\n\u001b[0;32m---> 95\u001b[0m     \u001b[39mself\u001b[39;49m\u001b[39m.\u001b[39;49mconnect(\u001b[39m*\u001b[39;49m\u001b[39m*\u001b[39;49mkwargs)\n",
      "File \u001b[0;32m/usr/local/lib/python3.10/site-packages/mysql/connector/abstracts.py:716\u001b[0m, in \u001b[0;36mMySQLConnectionAbstract.connect\u001b[0;34m(self, **kwargs)\u001b[0m\n\u001b[1;32m    713\u001b[0m     \u001b[39mself\u001b[39m\u001b[39m.\u001b[39mconfig(\u001b[39m*\u001b[39m\u001b[39m*\u001b[39mkwargs)\n\u001b[1;32m    715\u001b[0m \u001b[39mself\u001b[39m\u001b[39m.\u001b[39mdisconnect()\n\u001b[0;32m--> 716\u001b[0m \u001b[39mself\u001b[39;49m\u001b[39m.\u001b[39;49m_open_connection()\n\u001b[1;32m    717\u001b[0m \u001b[39mself\u001b[39m\u001b[39m.\u001b[39m_post_connection()\n",
      "File \u001b[0;32m/usr/local/lib/python3.10/site-packages/mysql/connector/connection.py:208\u001b[0m, in \u001b[0;36mMySQLConnection._open_connection\u001b[0;34m(self)\u001b[0m\n\u001b[1;32m    206\u001b[0m \u001b[39mself\u001b[39m\u001b[39m.\u001b[39m_socket\u001b[39m.\u001b[39mopen_connection()\n\u001b[1;32m    207\u001b[0m \u001b[39mself\u001b[39m\u001b[39m.\u001b[39m_do_handshake()\n\u001b[0;32m--> 208\u001b[0m \u001b[39mself\u001b[39;49m\u001b[39m.\u001b[39;49m_do_auth(\u001b[39mself\u001b[39;49m\u001b[39m.\u001b[39;49m_user, \u001b[39mself\u001b[39;49m\u001b[39m.\u001b[39;49m_password,\n\u001b[1;32m    209\u001b[0m               \u001b[39mself\u001b[39;49m\u001b[39m.\u001b[39;49m_database, \u001b[39mself\u001b[39;49m\u001b[39m.\u001b[39;49m_client_flags, \u001b[39mself\u001b[39;49m\u001b[39m.\u001b[39;49m_charset_id,\n\u001b[1;32m    210\u001b[0m               \u001b[39mself\u001b[39;49m\u001b[39m.\u001b[39;49m_ssl)\n\u001b[1;32m    211\u001b[0m \u001b[39mself\u001b[39m\u001b[39m.\u001b[39mset_converter_class(\u001b[39mself\u001b[39m\u001b[39m.\u001b[39m_converter_class)\n\u001b[1;32m    212\u001b[0m \u001b[39mif\u001b[39;00m \u001b[39mself\u001b[39m\u001b[39m.\u001b[39m_client_flags \u001b[39m&\u001b[39m ClientFlag\u001b[39m.\u001b[39mCOMPRESS:\n",
      "File \u001b[0;32m/usr/local/lib/python3.10/site-packages/mysql/connector/connection.py:137\u001b[0m, in \u001b[0;36mMySQLConnection._do_auth\u001b[0;34m(self, username, password, database, client_flags, charset, ssl_options)\u001b[0m\n\u001b[1;32m    134\u001b[0m     \u001b[39mself\u001b[39m\u001b[39m.\u001b[39m_socket\u001b[39m.\u001b[39mswitch_to_ssl(\u001b[39m*\u001b[39m\u001b[39m*\u001b[39mssl_options)\n\u001b[1;32m    135\u001b[0m     \u001b[39mself\u001b[39m\u001b[39m.\u001b[39m_ssl_active \u001b[39m=\u001b[39m \u001b[39mTrue\u001b[39;00m\n\u001b[0;32m--> 137\u001b[0m packet \u001b[39m=\u001b[39m \u001b[39mself\u001b[39;49m\u001b[39m.\u001b[39;49m_protocol\u001b[39m.\u001b[39;49mmake_auth(\n\u001b[1;32m    138\u001b[0m     handshake\u001b[39m=\u001b[39;49m\u001b[39mself\u001b[39;49m\u001b[39m.\u001b[39;49m_handshake,\n\u001b[1;32m    139\u001b[0m     username\u001b[39m=\u001b[39;49musername, password\u001b[39m=\u001b[39;49mpassword, database\u001b[39m=\u001b[39;49mdatabase,\n\u001b[1;32m    140\u001b[0m     charset\u001b[39m=\u001b[39;49mcharset, client_flags\u001b[39m=\u001b[39;49mclient_flags,\n\u001b[1;32m    141\u001b[0m     ssl_enabled\u001b[39m=\u001b[39;49m\u001b[39mself\u001b[39;49m\u001b[39m.\u001b[39;49m_ssl_active,\n\u001b[1;32m    142\u001b[0m     auth_plugin\u001b[39m=\u001b[39;49m\u001b[39mself\u001b[39;49m\u001b[39m.\u001b[39;49m_auth_plugin)\n\u001b[1;32m    143\u001b[0m \u001b[39mself\u001b[39m\u001b[39m.\u001b[39m_socket\u001b[39m.\u001b[39msend(packet)\n\u001b[1;32m    144\u001b[0m \u001b[39mself\u001b[39m\u001b[39m.\u001b[39m_auth_switch_request(username, password)\n",
      "File \u001b[0;32m/usr/local/lib/python3.10/site-packages/mysql/connector/protocol.py:99\u001b[0m, in \u001b[0;36mMySQLProtocol.make_auth\u001b[0;34m(self, handshake, username, password, database, charset, client_flags, max_allowed_packet, ssl_enabled, auth_plugin)\u001b[0m\n\u001b[1;32m     93\u001b[0m     username_bytes \u001b[39m=\u001b[39m username\n\u001b[1;32m     94\u001b[0m packet \u001b[39m=\u001b[39m struct\u001b[39m.\u001b[39mpack(\u001b[39m'\u001b[39m\u001b[39m<IIB\u001b[39m\u001b[39m{filler}\u001b[39;00m\u001b[39m{usrlen}\u001b[39;00m\u001b[39msx\u001b[39m\u001b[39m'\u001b[39m\u001b[39m.\u001b[39mformat(\n\u001b[1;32m     95\u001b[0m     filler\u001b[39m=\u001b[39m\u001b[39m'\u001b[39m\u001b[39mx\u001b[39m\u001b[39m'\u001b[39m \u001b[39m*\u001b[39m \u001b[39m23\u001b[39m, usrlen\u001b[39m=\u001b[39m\u001b[39mlen\u001b[39m(username_bytes)),\n\u001b[1;32m     96\u001b[0m                      client_flags, max_allowed_packet, charset,\n\u001b[1;32m     97\u001b[0m                      username_bytes)\n\u001b[0;32m---> 99\u001b[0m packet \u001b[39m+\u001b[39m\u001b[39m=\u001b[39m \u001b[39mself\u001b[39;49m\u001b[39m.\u001b[39;49m_auth_response(client_flags, username, password,\n\u001b[1;32m    100\u001b[0m                               database,\n\u001b[1;32m    101\u001b[0m                               auth_plugin,\n\u001b[1;32m    102\u001b[0m                               auth_data, ssl_enabled)\n\u001b[1;32m    104\u001b[0m packet \u001b[39m+\u001b[39m\u001b[39m=\u001b[39m \u001b[39mself\u001b[39m\u001b[39m.\u001b[39m_connect_with_db(client_flags, database)\n\u001b[1;32m    106\u001b[0m \u001b[39mif\u001b[39;00m client_flags \u001b[39m&\u001b[39m ClientFlag\u001b[39m.\u001b[39mPLUGIN_AUTH:\n",
      "File \u001b[0;32m/usr/local/lib/python3.10/site-packages/mysql/connector/protocol.py:58\u001b[0m, in \u001b[0;36mMySQLProtocol._auth_response\u001b[0;34m(self, client_flags, username, password, database, auth_plugin, auth_data, ssl_enabled)\u001b[0m\n\u001b[1;32m     55\u001b[0m     \u001b[39mreturn\u001b[39;00m \u001b[39mb\u001b[39m\u001b[39m'\u001b[39m\u001b[39m\\x00\u001b[39;00m\u001b[39m'\u001b[39m\n\u001b[1;32m     57\u001b[0m \u001b[39mtry\u001b[39;00m:\n\u001b[0;32m---> 58\u001b[0m     auth \u001b[39m=\u001b[39m get_auth_plugin(auth_plugin)(\n\u001b[1;32m     59\u001b[0m         auth_data,\n\u001b[1;32m     60\u001b[0m         username\u001b[39m=\u001b[39musername, password\u001b[39m=\u001b[39mpassword, database\u001b[39m=\u001b[39mdatabase,\n\u001b[1;32m     61\u001b[0m         ssl_enabled\u001b[39m=\u001b[39mssl_enabled)\n\u001b[1;32m     62\u001b[0m     plugin_auth_response \u001b[39m=\u001b[39m auth\u001b[39m.\u001b[39mauth_response()\n\u001b[1;32m     63\u001b[0m \u001b[39mexcept\u001b[39;00m (\u001b[39mTypeError\u001b[39;00m, errors\u001b[39m.\u001b[39mInterfaceError) \u001b[39mas\u001b[39;00m exc:\n",
      "File \u001b[0;32m/usr/local/lib/python3.10/site-packages/mysql/connector/authentication.py:190\u001b[0m, in \u001b[0;36mget_auth_plugin\u001b[0;34m(plugin_name)\u001b[0m\n\u001b[1;32m    187\u001b[0m     \u001b[39mif\u001b[39;00m authclass\u001b[39m.\u001b[39mplugin_name \u001b[39m==\u001b[39m plugin_name:\n\u001b[1;32m    188\u001b[0m         \u001b[39mreturn\u001b[39;00m authclass\n\u001b[0;32m--> 190\u001b[0m \u001b[39mraise\u001b[39;00m errors\u001b[39m.\u001b[39mNotSupportedError(\n\u001b[1;32m    191\u001b[0m     \u001b[39m\"\u001b[39m\u001b[39mAuthentication plugin \u001b[39m\u001b[39m'\u001b[39m\u001b[39m{0}\u001b[39;00m\u001b[39m'\u001b[39m\u001b[39m is not supported\u001b[39m\u001b[39m\"\u001b[39m\u001b[39m.\u001b[39mformat(plugin_name))\n",
      "\u001b[0;31mNotSupportedError\u001b[0m: Authentication plugin 'caching_sha2_password' is not supported"
     ]
    }
   ],
   "source": [
    "import mysql.connector\n",
    "\n",
    "# define MySQL connection parameters\n",
    "mysql_hostname = \"localhost\"\n",
    "mysql_port = 3306\n",
    "mysql_database = \"creditcard_capstone\"\n",
    "mysql_username = \"root\"\n",
    "mysql_password = \"ShaShi3493*\"\n",
    "# connect to MySQL database\n",
    "cnx = mysql.connector.connect(user=mysql_username, password=mysql_password,\n",
    "                              host=mysql_hostname, database=mysql_database)\n",
    "\n",
    "query = \"(SELECT * FROM cdw_sapp_branch bc \\\n",
    "      JOIN cdw_sapp_credit_card cc ON bc.BRANCH_CODE = cc.BRANCH_CODE \\\n",
    "        JOIN cdw_sapp_customer as cust ON cc.CUST_SSN = cust.SSN)\"\n",
    "\n",
    "def execute_query(query):\n",
    "    return spark.sql(query).toPandas() \n",
    "query.head(2)\n",
    "\n",
    "# define a function to execute SQL queries and return results\n",
    "''' def execute_query(query):\n",
    "    cursor = cnx.cursor()\n",
    "    cursor.execute(query)\n",
    "    result = cursor.fetchall()\n",
    "    cursor.close()\n",
    "    return result '''"
   ]
  },
  {
   "cell_type": "code",
   "execution_count": null,
   "metadata": {},
   "outputs": [],
   "source": [
    "\n",
    "\n",
    "# define a function to execute SQL queries and return results\n",
    "def execute_query(query, mysql_hostname, mysql_port, mysql_database, mysql_username, mysql_password):\n",
    "    url = f\"jdbc:mysql://{mysql_hostname}:{mysql_port}/{mysql_database}\"\n",
    "    properties = {\n",
    "        \"driver\": \"com.mysql.jdbc.Driver\",\n",
    "        \"user\": mysql_username,\n",
    "        \"password\": mysql_password\n",
    "    }\n",
    "    df = spark.read.jdbc(url=url, table=f\"({query}) as t\", properties=properties)\n",
    "    return df.toPandas()\n"
   ]
  },
  {
   "cell_type": "code",
   "execution_count": null,
   "metadata": {},
   "outputs": [],
   "source": [
    "df.head(2)"
   ]
  },
  {
   "cell_type": "markdown",
   "metadata": {},
   "source": [
    "\n",
    "# establish database connection\n",
    "cnx = mysql.connector.connect(user='root', password='ShaShi3493*',\n",
    "                              host='localhost', database='creditcard_capstone')\n",
    "\n",
    "# execute SQL query and store results in dataframe\n",
    "df = pd.read_sql(\"(SELECT * FROM cdw_sapp_branch bc JOIN cdw_sapp_credit_card cc ON bc.BRANCH_CODE = cc.BRANCH_CODE JOIN cdw_sapp_customer as cust ON cc.CUST_SSN = cust.SSN)\", con=cnx)\n",
    "\n",
    "df.head(2)"
   ]
  },
  {
   "cell_type": "code",
   "execution_count": null,
   "metadata": {},
   "outputs": [],
   "source": [
    "# define a function to execute SQL queries and return a PySpark DataFrame\n",
    "\n",
    "query = \"(SELECT * FROM cdw_sapp_branch bc JOIN cdw_sapp_credit_card cc ON bc.BRANCH_CODE = cc.BRANCH_CODE \\\n",
    "        JOIN cdw_sapp_customer as cust ON cc.CUST_SSN = cust.SSN)\"\n",
    "\n",
    "\n",
    "def execute_query(query):\n",
    "    df = spark.read.format(\"jdbc\")\\\n",
    "        .option(\"url\", f\"jdbc:mysql://{mysql_hostname}:{mysql_port}/{mysql_database}\")\\\n",
    "            .option(\"driver\", \"com.mysql.jdbc.Driver\")\\\n",
    "                .option(\"user\", mysql_username)\\\n",
    "                    .option(\"password\", mysql_password)\\\n",
    "                        .option(\"dbtable\", \"({})\".format(query))\\\n",
    "                            .load()\n",
    "    return df           \n",
    "df = execute_query(query, mysql_hostname, mysql_port, mysql_database, mysql_username, mysql_password)\n",
    "df.head(2)\n",
    " #.option(\"dbtable\", f\"({query}) as t\")\\\n",
    "# define a function to execute SQL queries and return results | def execute_query(query): try:\n",
    "\n",
    "\n",
    "result = spark.sql(query).toPandas()\n",
    "pd_result = result\n",
    "\n",
    "\n",
    "\n",
    "pd_result.show(2)\n"
   ]
  },
  {
   "cell_type": "code",
   "execution_count": null,
   "metadata": {},
   "outputs": [],
   "source": [
    "#1)    Used to display the transactions made by customers living in a given zip code for a given month and year. \n",
    "def execute_query():\n",
    "\n",
    "    flag = True\n",
    "    zip_code = input(\"Enter Your Zip Code:  \")\n",
    "    while (flag):\n",
    "        if not zip_code.isdigit():\n",
    "            zip_code = input('enter a valid zipcode')\n",
    "        else:\n",
    "            flag=False\n",
    "    \n",
    "    transaction_year = input(\"Enter the year for transactions records:  \")\n",
    "    flag=True\n",
    "    while (flag):\n",
    "        if not transaction_year.isdigit() or len(transaction_year)!=4:\n",
    "            transaction_year = input(\"Enter valid year format XXXX\")\n",
    "        else:\n",
    "            flag = False\n",
    "        \n",
    "    transaction_month = input(\"Enter the month in the form (XX): \").zfill(2)\n",
    "    flag = True\n",
    "    while (flag):\n",
    "        if  not transaction_month.isdigit():\n",
    "            transaction_month = input('Please enter valid month')\n",
    "        else:\n",
    "            flag=False\n",
    "    \n",
    "\n",
    "    cursor.execute(query,(zip_code,transaction_year,transaction_month,))\n",
    "    records = cursor.fetchall()\n",
    "    print(\"\\n List of  customer transactions in a given Zip code : \")\n",
    "    print(\"\\n\\n Customer no\\t\\tdate\\t   cust_ssn  code  type       value  id\")\n",
    "    for row in records:\n",
    "        print(row)\n"
   ]
  },
  {
   "cell_type": "code",
   "execution_count": null,
   "metadata": {},
   "outputs": [],
   "source": [
    "# define a function to validate user input\n",
    "\n",
    "def validate_input(prompt, expected_type):\n",
    "    while True:\n",
    "        user_input = pyin.inputStr(prompt)\n",
    "        try:\n",
    "            validated_input = expected_type(user_input)\n",
    "            return validated_input\n",
    "        except ValueError:\n",
    "            print(\"Invalid input. Please enter a {}.\".format(expected_type.__name__))"
   ]
  },
  {
   "cell_type": "code",
   "execution_count": null,
   "metadata": {},
   "outputs": [],
   "source": [
    "while True:\n",
    "    print(\"Select an option:\")\n",
    "    print(\"1. Display transactions by zip code and month/year\")\n",
    "    print(\"2. Display number and total value of transactions by type\")\n",
    "    print(\"3. Display total number and value of transactions by state\")\n",
    "    print(\"4. Exit\")\n",
    "\n",
    "    # validate user input\n",
    "    choice = validate_input(\"Enter your choice: \", int)\n",
    "    if choice == 1:\n",
    "        #1)    Used to display the transactions made by customers living in a given zip code for a given month and year. Order by day in descending order.\n",
    "       \n",
    "        zip_code = validate_input(\"Enter the zip code: \", int)\n",
    "        year = validate_input(\"Enter the year (YYYY): \", int)\n",
    "        month = validate_input(\"Enter the month (MM): \", int)\n",
    "        result = execute_query(\"SELECT * FROM CDW_SAPP_CUSTOMER, CDW_SAPP_BRANCH WHERE CUST_ZIP = {} AND YEAR(date) = {} AND MONTH(date) = {} ORDER BY date DESC\".format(zip_code, year, month))\n",
    "        if result:\n",
    "            pd_result = result.toPandas()\n",
    "            print(pd_result)\n",
    "        else:\n",
    "            print(\"No transactions found.\")\n",
    "    elif choice == 2:\n",
    "        #2)    Used to display the number and total values of transactions for a given type.\n",
    "      \n",
    "        transaction_type = validate_input(\"Enter the transaction type: \", str)\n",
    "        result = execute_query(\"SELECT TRANSACTION_VALUE, TRANSACTION_TYPE FROM '{}' where TRANSACTION_TYPE  = '{}'\".format(query, transaction_type))\n",
    "        if result:\n",
    "            pd_result = result.toPandas()\n",
    "            print(pd_result)\n",
    "        else:\n",
    "            print(\"No transactions found.\")\n",
    "    elif choice == 3:\n",
    "        #3)    Used to display the total number and total values of transactions for branches in a given state.\n",
    "    \n",
    "        state = validate_input(\"Enter the state: \", str)\n",
    "        result = execute_query(\"SELECT bc.state, COUNT(*) as count, SUM(TRANSACTION_VALUE) as total_value FROM cdw_sapp_branch bc JOIN cdw_sapp_credit_card cc ON bc.BRANCH_CODE = cc.BRANCH_CODE WHERE BRANCH_STATE = '{}'\".format(state))\n",
    "        if result:\n",
    "            pd_result = result.toPandas()\n",
    "            print(pd_result)\n",
    "        else:\n",
    "            print(\"No transactions found.\")\n",
    "    elif choice == 4:\n",
    "        # exit\n",
    "        break\n",
    "    else:\n",
    "        print(\"Invalid choice.\")\n"
   ]
  },
  {
   "cell_type": "code",
   "execution_count": null,
   "metadata": {},
   "outputs": [],
   "source": [
    "#stop Spark\n",
    "spark.stop()"
   ]
  }
 ],
 "metadata": {
  "kernelspec": {
   "display_name": "Python 3",
   "language": "python",
   "name": "python3"
  },
  "language_info": {
   "codemirror_mode": {
    "name": "ipython",
    "version": 3
   },
   "file_extension": ".py",
   "mimetype": "text/x-python",
   "name": "python",
   "nbconvert_exporter": "python",
   "pygments_lexer": "ipython3",
   "version": "3.10.10"
  },
  "orig_nbformat": 4,
  "vscode": {
   "interpreter": {
    "hash": "aee8b7b246df8f9039afb4144a1f6fd8d2ca17a180786b69acc140d282b71a49"
   }
  }
 },
 "nbformat": 4,
 "nbformat_minor": 2
}
