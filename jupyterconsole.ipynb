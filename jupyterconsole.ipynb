{
 "cells": [
  {
   "attachments": {},
   "cell_type": "markdown",
   "metadata": {},
   "source": [
    "#2"
   ]
  },
  {
   "cell_type": "code",
   "execution_count": 63,
   "metadata": {},
   "outputs": [],
   "source": [
    "import pyspark as psk\n",
    "import pandas as pd\n",
    "from pyspark.sql import SparkSession\n",
    "from pyspark.sql.functions import *\n",
    "import pyinputplus as pyin\n",
    "import warnings"
   ]
  },
  {
   "cell_type": "code",
   "execution_count": 64,
   "metadata": {},
   "outputs": [],
   "source": [
    "# suppress warnings\n",
    "warnings.filterwarnings('ignore')"
   ]
  },
  {
   "cell_type": "code",
   "execution_count": 65,
   "metadata": {},
   "outputs": [
    {
     "name": "stdout",
     "output_type": "stream",
     "text": [
      "23/03/01 14:19:32 WARN Utils: Service 'SparkUI' could not bind on port 4040. Attempting port 4041.\n",
      "23/03/01 14:19:32 WARN Utils: Service 'SparkUI' could not bind on port 4041. Attempting port 4042.\n",
      "23/03/01 14:19:32 WARN Utils: Service 'SparkUI' could not bind on port 4042. Attempting port 4043.\n"
     ]
    }
   ],
   "source": [
    "# create a SparkSession\n",
    "spark = SparkSession\\\n",
    "    .builder\\\n",
    "    .appName(\"PYCONSOLE\")\\\n",
    "    .config(\"spark.jars\",\"/Users/roy/Downloads/mysql-connector-j-8.0.32/mysql-connector-j-8.0.32.jar\")\\\n",
    "    .getOrCreate()\n",
    "\n",
    "# define MySQL connection parameters\n",
    "mysql_hostname = \"localhost\"\n",
    "mysql_port = 3306\n",
    "mysql_database = \"creditcard_capstone\"\n",
    "mysql_username = \"root\"\n",
    "mysql_password = \"ShaShi3493*\""
   ]
  },
  {
   "cell_type": "code",
   "execution_count": 66,
   "metadata": {},
   "outputs": [],
   "source": [
    "# define a function to execute SQL queries and return a PySpark DataFrame\n",
    "query = \"(SELECT * FROM cdw_sapp_branch bc JOIN cdw_sapp_credit_card cc ON bc.BRANCH_CODE = cc.BRANCH_CODE JOIN cdw_sapp_customer as cust ON cc.CUST_SSN = cust.SSN)\" \n",
    "\n",
    "def execute_query(query):\n",
    "    df = spark.read.format(\"jdbc\")\\\n",
    "        .option(\"url\", f\"jdbc:mysql://{mysql_hostname}:{mysql_port}/{mysql_database}\")\\\n",
    "            .option(\"driver\", \"com.mysql.jdbc.Driver\")\\\n",
    "                .option(\"user\", mysql_username)\\\n",
    "                    .option(\"password\", mysql_password)\\\n",
    "                        .option(\"dbtable\", \"({})\".format(query))\\\n",
    "                            .load()\n",
    "    return df           \n",
    " #.option(\"dbtable\", f\"({query}) as t\")\\\n",
    "# define a function to execute SQL queries and return results\n",
    "def execute_query(query):\n",
    "    try:\n",
    "        result = spark.sql(query).toPandas()\n",
    "        return result\n",
    "    except Exception as e:\n",
    "        print(f\"Error executing query: {e}\")\n",
    "        #return None\n",
    "\n",
    "    \n"
   ]
  },
  {
   "cell_type": "code",
   "execution_count": 67,
   "metadata": {},
   "outputs": [],
   "source": [
    "# define a function to validate user input\n",
    "\n",
    "def validate_input(prompt, expected_type):\n",
    "    while True:\n",
    "        user_input = pyin.inputStr(prompt)\n",
    "        try:\n",
    "            validated_input = expected_type(user_input)\n",
    "            return validated_input\n",
    "        except ValueError:\n",
    "            print(\"Invalid input. Please enter a {}.\".format(expected_type.__name__))"
   ]
  },
  {
   "cell_type": "code",
   "execution_count": 68,
   "metadata": {},
   "outputs": [
    {
     "name": "stdout",
     "output_type": "stream",
     "text": [
      "Select an option:\n",
      "1. Display transactions by zip code and month/year\n",
      "2. Display number and total value of transactions by type\n",
      "3. Display total number and value of transactions by state\n",
      "4. Exit\n",
      "Enter your choice: Enter the state: Error executing query: Table or view not found: cdw_sapp_branch; line 1 pos 79;\n",
      "'Aggregate ['bc.state, count(1) AS count#33L, 'SUM('TRANSACTION_VALUE) AS total_value#34]\n",
      "+- 'Filter ('BRANCH_STATE = NY)\n",
      "   +- 'Join Inner, ('bc.BRANCH_CODE = 'cc.BRANCH_CODE)\n",
      "      :- 'SubqueryAlias bc\n",
      "      :  +- 'UnresolvedRelation [cdw_sapp_branch], [], false\n",
      "      +- 'SubqueryAlias cc\n",
      "         +- 'UnresolvedRelation [cdw_sapp_credit_card], [], false\n",
      "\n",
      "No transactions found.\n",
      "Select an option:\n",
      "1. Display transactions by zip code and month/year\n",
      "2. Display number and total value of transactions by type\n",
      "3. Display total number and value of transactions by state\n",
      "4. Exit\n",
      "Enter your choice: Enter the transaction type: Error executing query: \n",
      "Syntax error at or near ''(SELECT * FROM cdw_sapp_branch bc JOIN cdw_sapp_credit_card cc ON bc.BRANCH_CODE = cc.BRANCH_CODE JOIN cdw_sapp_customer as cust ON cc.CUST_SSN = cust.SSN)''(line 1, pos 48)\n",
      "\n",
      "== SQL ==\n",
      "SELECT TRANSACTION_VALUE, TRANSACTION_TYPE FROM '(SELECT * FROM cdw_sapp_branch bc JOIN cdw_sapp_credit_card cc ON bc.BRANCH_CODE = cc.BRANCH_CODE JOIN cdw_sapp_customer as cust ON cc.CUST_SSN = cust.SSN)' where TRANSACTION_TYPE  = 'Gas'\n",
      "------------------------------------------------^^^\n",
      "\n",
      "No transactions found.\n",
      "Select an option:\n",
      "1. Display transactions by zip code and month/year\n",
      "2. Display number and total value of transactions by type\n",
      "3. Display total number and value of transactions by state\n",
      "4. Exit\n",
      "Enter your choice: "
     ]
    }
   ],
   "source": [
    "while True:\n",
    "    print(\"Select an option:\")\n",
    "    print(\"1. Display transactions by zip code and month/year\")\n",
    "    print(\"2. Display number and total value of transactions by type\")\n",
    "    print(\"3. Display total number and value of transactions by state\")\n",
    "    print(\"4. Exit\")\n",
    "\n",
    "    # validate user input\n",
    "    choice = validate_input(\"Enter your choice: \", int)\n",
    "    if choice == 1:\n",
    "        #1)    Used to display the transactions made by customers living in a given zip code for a given month and year. Order by day in descending order.\n",
    "       \n",
    "        zip_code = validate_input(\"Enter the zip code: \", int)\n",
    "        year = validate_input(\"Enter the year (YYYY): \", int)\n",
    "        month = validate_input(\"Enter the month (MM): \", int)\n",
    "        result = execute_query(\"SELECT * FROM CDW_SAPP_CUSTOMER, CDW_SAPP_BRANCH WHERE CUST_ZIP = {} AND YEAR(date) = {} AND MONTH(date) = {} ORDER BY date DESC\".format(zip_code, year, month))\n",
    "        if result:\n",
    "            pd_result = result.toPandas()\n",
    "            print(pd_result)\n",
    "        else:\n",
    "            print(\"No transactions found.\")\n",
    "    elif choice == 2:\n",
    "        #2)    Used to display the number and total values of transactions for a given type.\n",
    "      \n",
    "        transaction_type = validate_input(\"Enter the transaction type: \", str)\n",
    "        result = execute_query(\"SELECT TRANSACTION_VALUE, TRANSACTION_TYPE FROM '{}' where TRANSACTION_TYPE  = '{}'\".format(query, transaction_type))\n",
    "        if result:\n",
    "            pd_result = result.toPandas()\n",
    "            print(pd_result)\n",
    "        else:\n",
    "            print(\"No transactions found.\")\n",
    "    elif choice == 3:\n",
    "        #3)    Used to display the total number and total values of transactions for branches in a given state.\n",
    "    \n",
    "        state = validate_input(\"Enter the state: \", str)\n",
    "        result = execute_query(\"SELECT bc.state, COUNT(*) as count, SUM(TRANSACTION_VALUE) as total_value FROM cdw_sapp_branch bc JOIN cdw_sapp_credit_card cc ON bc.BRANCH_CODE = cc.BRANCH_CODE WHERE BRANCH_STATE = '{}'\".format(state))\n",
    "        if result:\n",
    "            pd_result = result.toPandas()\n",
    "            print(pd_result)\n",
    "        else:\n",
    "            print(\"No transactions found.\")\n",
    "    elif choice == 4:\n",
    "        # exit\n",
    "        break\n",
    "    else:\n",
    "        print(\"Invalid choice.\")\n"
   ]
  },
  {
   "cell_type": "code",
   "execution_count": 69,
   "metadata": {},
   "outputs": [],
   "source": [
    "#stop Spark\n",
    "spark.stop()"
   ]
  }
 ],
 "metadata": {
  "kernelspec": {
   "display_name": "Python 3",
   "language": "python",
   "name": "python3"
  },
  "language_info": {
   "codemirror_mode": {
    "name": "ipython",
    "version": 3
   },
   "file_extension": ".py",
   "mimetype": "text/x-python",
   "name": "python",
   "nbconvert_exporter": "python",
   "pygments_lexer": "ipython3",
   "version": "3.10.10"
  },
  "orig_nbformat": 4,
  "vscode": {
   "interpreter": {
    "hash": "aee8b7b246df8f9039afb4144a1f6fd8d2ca17a180786b69acc140d282b71a49"
   }
  }
 },
 "nbformat": 4,
 "nbformat_minor": 2
}
