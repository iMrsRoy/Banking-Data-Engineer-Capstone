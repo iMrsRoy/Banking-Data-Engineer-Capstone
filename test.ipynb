{
 "cells": [
  {
   "cell_type": "markdown",
   "metadata": {},
   "source": []
  },
  {
   "cell_type": "code",
   "execution_count": 5,
   "metadata": {},
   "outputs": [
    {
     "name": "stdout",
     "output_type": "stream",
     "text": [
      "<Response [200]>\n"
     ]
    }
   ],
   "source": [
    "import requests as r\n",
    "from bs4 import BeautifulSoup as bs\n",
    "import json\n",
    "from pprint import pp\n",
    "import pandas as pd\n",
    "\n",
    "url = \"https://raw.githubusercontent.com/platformps/LoanDataset/main/loan_data.json\"\n",
    "response = r.get(url)\n",
    "\n",
    "pp(response)"
   ]
  },
  {
   "cell_type": "code",
   "execution_count": 6,
   "metadata": {},
   "outputs": [],
   "source": [
    "data = response.json()\n"
   ]
  },
  {
   "cell_type": "code",
   "execution_count": 10,
   "metadata": {},
   "outputs": [],
   "source": [
    "# Create a list of dictionaries from the data\n",
    "\n",
    "# Create a DataFrame from the list of dictionaries\n",
    "df = pd.DataFrame(data)\n",
    "\n",
    "\n"
   ]
  },
  {
   "cell_type": "code",
   "execution_count": 11,
   "metadata": {},
   "outputs": [
    {
     "ename": "KeyError",
     "evalue": "'self_employed'",
     "output_type": "error",
     "traceback": [
      "\u001b[0;31m---------------------------------------------------------------------------\u001b[0m",
      "\u001b[0;31mKeyError\u001b[0m                                  Traceback (most recent call last)",
      "File \u001b[0;32m/usr/local/lib/python3.10/site-packages/pandas/core/indexes/base.py:3802\u001b[0m, in \u001b[0;36mIndex.get_loc\u001b[0;34m(self, key, method, tolerance)\u001b[0m\n\u001b[1;32m   3801\u001b[0m \u001b[39mtry\u001b[39;00m:\n\u001b[0;32m-> 3802\u001b[0m     \u001b[39mreturn\u001b[39;00m \u001b[39mself\u001b[39;49m\u001b[39m.\u001b[39;49m_engine\u001b[39m.\u001b[39;49mget_loc(casted_key)\n\u001b[1;32m   3803\u001b[0m \u001b[39mexcept\u001b[39;00m \u001b[39mKeyError\u001b[39;00m \u001b[39mas\u001b[39;00m err:\n",
      "File \u001b[0;32m/usr/local/lib/python3.10/site-packages/pandas/_libs/index.pyx:138\u001b[0m, in \u001b[0;36mpandas._libs.index.IndexEngine.get_loc\u001b[0;34m()\u001b[0m\n",
      "File \u001b[0;32m/usr/local/lib/python3.10/site-packages/pandas/_libs/index.pyx:165\u001b[0m, in \u001b[0;36mpandas._libs.index.IndexEngine.get_loc\u001b[0;34m()\u001b[0m\n",
      "File \u001b[0;32mpandas/_libs/hashtable_class_helper.pxi:5745\u001b[0m, in \u001b[0;36mpandas._libs.hashtable.PyObjectHashTable.get_item\u001b[0;34m()\u001b[0m\n",
      "File \u001b[0;32mpandas/_libs/hashtable_class_helper.pxi:5753\u001b[0m, in \u001b[0;36mpandas._libs.hashtable.PyObjectHashTable.get_item\u001b[0;34m()\u001b[0m\n",
      "\u001b[0;31mKeyError\u001b[0m: 'self_employed'",
      "\nThe above exception was the direct cause of the following exception:\n",
      "\u001b[0;31mKeyError\u001b[0m                                  Traceback (most recent call last)",
      "Cell \u001b[0;32mIn[11], line 2\u001b[0m\n\u001b[1;32m      1\u001b[0m \u001b[39m# Calculate the percentage of approved applications for self-employed applicants\u001b[39;00m\n\u001b[0;32m----> 2\u001b[0m self_employed_approved \u001b[39m=\u001b[39m df\u001b[39m.\u001b[39mloc[(df[\u001b[39m\"\u001b[39;49m\u001b[39mself_employed\u001b[39;49m\u001b[39m\"\u001b[39;49m] \u001b[39m==\u001b[39m \u001b[39m\"\u001b[39m\u001b[39mYes\u001b[39m\u001b[39m\"\u001b[39m) \u001b[39m&\u001b[39m (df[\u001b[39m\"\u001b[39m\u001b[39mloan_status\u001b[39m\u001b[39m\"\u001b[39m] \u001b[39m==\u001b[39m \u001b[39m\"\u001b[39m\u001b[39mApproved\u001b[39m\u001b[39m\"\u001b[39m)]\u001b[39m.\u001b[39mshape[\u001b[39m0\u001b[39m]\n\u001b[1;32m      3\u001b[0m self_employed_total \u001b[39m=\u001b[39m df\u001b[39m.\u001b[39mloc[df[\u001b[39m\"\u001b[39m\u001b[39mself_employed\u001b[39m\u001b[39m\"\u001b[39m] \u001b[39m==\u001b[39m \u001b[39m\"\u001b[39m\u001b[39mYes\u001b[39m\u001b[39m\"\u001b[39m]\u001b[39m.\u001b[39mshape[\u001b[39m0\u001b[39m]\n\u001b[1;32m      4\u001b[0m self_employed_approval_rate \u001b[39m=\u001b[39m self_employed_approved \u001b[39m/\u001b[39m self_employed_total \u001b[39m*\u001b[39m \u001b[39m100\u001b[39m\n",
      "File \u001b[0;32m/usr/local/lib/python3.10/site-packages/pandas/core/frame.py:3807\u001b[0m, in \u001b[0;36mDataFrame.__getitem__\u001b[0;34m(self, key)\u001b[0m\n\u001b[1;32m   3805\u001b[0m \u001b[39mif\u001b[39;00m \u001b[39mself\u001b[39m\u001b[39m.\u001b[39mcolumns\u001b[39m.\u001b[39mnlevels \u001b[39m>\u001b[39m \u001b[39m1\u001b[39m:\n\u001b[1;32m   3806\u001b[0m     \u001b[39mreturn\u001b[39;00m \u001b[39mself\u001b[39m\u001b[39m.\u001b[39m_getitem_multilevel(key)\n\u001b[0;32m-> 3807\u001b[0m indexer \u001b[39m=\u001b[39m \u001b[39mself\u001b[39;49m\u001b[39m.\u001b[39;49mcolumns\u001b[39m.\u001b[39;49mget_loc(key)\n\u001b[1;32m   3808\u001b[0m \u001b[39mif\u001b[39;00m is_integer(indexer):\n\u001b[1;32m   3809\u001b[0m     indexer \u001b[39m=\u001b[39m [indexer]\n",
      "File \u001b[0;32m/usr/local/lib/python3.10/site-packages/pandas/core/indexes/base.py:3804\u001b[0m, in \u001b[0;36mIndex.get_loc\u001b[0;34m(self, key, method, tolerance)\u001b[0m\n\u001b[1;32m   3802\u001b[0m     \u001b[39mreturn\u001b[39;00m \u001b[39mself\u001b[39m\u001b[39m.\u001b[39m_engine\u001b[39m.\u001b[39mget_loc(casted_key)\n\u001b[1;32m   3803\u001b[0m \u001b[39mexcept\u001b[39;00m \u001b[39mKeyError\u001b[39;00m \u001b[39mas\u001b[39;00m err:\n\u001b[0;32m-> 3804\u001b[0m     \u001b[39mraise\u001b[39;00m \u001b[39mKeyError\u001b[39;00m(key) \u001b[39mfrom\u001b[39;00m \u001b[39merr\u001b[39;00m\n\u001b[1;32m   3805\u001b[0m \u001b[39mexcept\u001b[39;00m \u001b[39mTypeError\u001b[39;00m:\n\u001b[1;32m   3806\u001b[0m     \u001b[39m# If we have a listlike key, _check_indexing_error will raise\u001b[39;00m\n\u001b[1;32m   3807\u001b[0m     \u001b[39m#  InvalidIndexError. Otherwise we fall through and re-raise\u001b[39;00m\n\u001b[1;32m   3808\u001b[0m     \u001b[39m#  the TypeError.\u001b[39;00m\n\u001b[1;32m   3809\u001b[0m     \u001b[39mself\u001b[39m\u001b[39m.\u001b[39m_check_indexing_error(key)\n",
      "\u001b[0;31mKeyError\u001b[0m: 'self_employed'"
     ]
    }
   ],
   "source": [
    "# Calculate the percentage of approved applications for self-employed applicants\n",
    "self_employed_approved = df.loc[(df[\"self_employed\"] == \"Yes\") & (df[\"loan_status\"] == \"Approved\")].shape[0]\n",
    "self_employed_total = df.loc[df[\"self_employed\"] == \"Yes\"].shape[0]\n",
    "self_employed_approval_rate = self_employed_approved / self_employed_total * 100\n",
    "\n",
    "# Plot the approval rate\n",
    "fig, ax = plt.subplots()\n",
    "ax.bar([\"Self-employed\"], [self_employed_approval_rate])\n",
    "ax.set_ylabel(\"Approval rate (%)\")\n",
    "ax.set_title(\"Percentage of Applications Approved for Self-employed Applicants\")\n",
    "plt.show()\n"
   ]
  },
  {
   "cell_type": "code",
   "execution_count": null,
   "metadata": {},
   "outputs": [],
   "source": [
    "def execute_query(query):\n",
    "    df = spark.read.format(\"jdbc\")\\\n",
    "        .option(\"url\", \"jdbc:mysql://{}:{}/{}\".format(mysql_hostname, mysql_port, mysql_database))\\\n",
    "        .option(\"driver\", \"/Users/roy/Downloads/mysql-connector-j-8.0.32/mysql-connector-j-8.0.32.jar\")\\\n",
    "        .option(\"dbtable\", \"({})\".format(query))\\\n",
    "        .option(\"user\", mysql_username)\\\n",
    "        .option(\"password\", mysql_password)\\\n",
    "        .load()\n",
    "    return df\n",
    "\n",
    "def execute_query(query):\n",
    "    try:\n",
    "        result = spark.sql(query).toPandas()\n",
    "        return result\n",
    "    except Exception as e:\n",
    "        print(\"Error executing query: {}\".format(e))\n",
    "        return None\n",
    "\n",
    "# define a function to validate user input\n",
    "def validate_input(prompt, expected_type):\n",
    "    while True:\n",
    "        user_input = pyin.inputStr(prompt)\n",
    "        try:\n",
    "            validated_input = expected_type(user_input)\n",
    "            return validated_input\n",
    "        except ValueError:\n",
    "            print(\"Invalid input. Please enter a {}.\".format(expected_type.__name__))\n",
    "\n",
    "# define a loop for user interaction\n",
    "while True:\n",
    "    print(\"Select an option:\")\n",
    "    print(\"1. Display transactions by zip code and month/year\")\n",
    "    print(\"2. Display number and total value of transactions by type\")\n",
    "    print(\"3. Display total number and value of transactions by state\")\n",
    "    print(\"4. Exit\")\n",
    "\n",
    "    # validate user input\n",
    "    choice = validate_input(\"Enter your choice: \", int)\n",
    "    if choice == 1:\n",
    "        #1)    Used to display the transactions made by customers living in a given zip code for a given month and year. Order by day in descending order.\n",
    "       \n",
    "        zip_code = validate_input(\"Enter the zip code: \", int)\n",
    "        year = validate_input(\"Enter the year (YYYY): \", int)\n",
    "        month = validate_input(\"Enter the month (MM): \", int)\n",
    "        result = execute_query(\"SELECT * FROM CDW_SAPP_CUSTOMER, CDW_SAPP_BRANCH WHERE CUST_ZIP = {} AND YEAR(date) = {} AND MONTH(date) = {} ORDER BY date DESC\".format(zip_code, year, month))\n",
    "        if result:\n",
    "            pd_result = result.toPandas()\n",
    "            print(pd_result)\n",
    "        else:\n",
    "            print(\"No transactions found.\")\n",
    "    elif choice == 2:\n",
    "        #2)    Used to display the number and total values of transactions for a given type.\n",
    "      \n",
    "        transaction_type = validate_input(\"Enter the transaction type: \", str)\n",
    "        result = execute_query(\"SELECT TRANSACTION_VALUE, TRANSACTION_TYPE FROM '{}' where TRANSACTION_TYPE  = '{}'\".format(query, transaction_type))\n",
    "        if result:\n",
    "            pd_result = result.toPandas()\n",
    "            print(pd_result)\n",
    "        else:\n",
    "            print(\"No transactions found.\")\n",
    "    elif choice == 3:\n",
    "        #3)    Used to display the total number and total values of transactions for branches in a given state.\n",
    "    \n",
    "        state = validate_input(\"Enter the state: \", str)\n",
    "        result = execute_query(\"SELECT bc.state, COUNT(*) as count, SUM(TRANSACTION_VALUE) as total_value FROM cdw_sapp_branch bc JOIN cdw_sapp_credit_card cc ON bc.BRANCH_CODE = cc.BRANCH_CODE WHERE BRANCH_STATE = '{}'\".format(state))\n",
    "        if result:\n",
    "            pd_result = result.toPandas()\n",
    "            print(pd_result)\n",
    "        else:\n",
    "            print(\"No transactions found.\")\n",
    "    elif choice == 4:\n",
    "        # exit\n",
    "        break\n",
    "    else:\n",
    "        print(\"Invalid choice.\")\n"
   ]
  }
 ],
 "metadata": {
  "kernelspec": {
   "display_name": "Python 3",
   "language": "python",
   "name": "python3"
  },
  "language_info": {
   "codemirror_mode": {
    "name": "ipython",
    "version": 3
   },
   "file_extension": ".py",
   "mimetype": "text/x-python",
   "name": "python",
   "nbconvert_exporter": "python",
   "pygments_lexer": "ipython3",
   "version": "3.10.10"
  },
  "orig_nbformat": 4,
  "vscode": {
   "interpreter": {
    "hash": "aee8b7b246df8f9039afb4144a1f6fd8d2ca17a180786b69acc140d282b71a49"
   }
  }
 },
 "nbformat": 4,
 "nbformat_minor": 2
}
